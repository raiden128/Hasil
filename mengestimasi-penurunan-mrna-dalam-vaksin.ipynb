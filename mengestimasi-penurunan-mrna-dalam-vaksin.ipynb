{
 "cells": [
  {
   "cell_type": "markdown",
   "metadata": {
    "papermill": {
     "duration": 0.044966,
     "end_time": "2021-02-17T15:19:19.681315",
     "exception": false,
     "start_time": "2021-02-17T15:19:19.636349",
     "status": "completed"
    },
    "tags": []
   },
   "source": [
    "## PENJELASAN UMUM\n",
    "\n",
    "\n",
    "vaksin mRNA (messenger RNA) adalah Vaksin yang menjanjikan. Salah satu tantangan terbesar adalah mengembangkan molekul mRNA yang stabil, Ilmuwan mengamati bahwa molekul RNA cenderung mengalami penurunan secara spontan. Tujuan saya ini mengestimasi tingkat penurunan yang paling mungkin pada setiap molekul basa RNA, saya memiliki subset dari [The National Center for Biotechnology](https://www.ncbi.nlm.nih.gov/) dengan 3000 molekul RNA yang akan di estimasi\n",
    "\n",
    "\n",
    "\n",
    "\n"
   ]
  },
  {
   "cell_type": "code",
   "execution_count": 1,
   "metadata": {
    "_cell_guid": "b1076dfc-b9ad-4769-8c92-a6c4dae69d19",
    "_kg_hide-input": true,
    "_uuid": "8f2839f25d086af736a60e9eeb907d3b93b6e0e5",
    "execution": {
     "iopub.execute_input": "2021-02-17T15:19:19.781742Z",
     "iopub.status.busy": "2021-02-17T15:19:19.777957Z",
     "iopub.status.idle": "2021-02-17T15:19:21.248516Z",
     "shell.execute_reply": "2021-02-17T15:19:21.246752Z"
    },
    "papermill": {
     "duration": 1.523704,
     "end_time": "2021-02-17T15:19:21.248818",
     "exception": false,
     "start_time": "2021-02-17T15:19:19.725114",
     "status": "completed"
    },
    "tags": []
   },
   "outputs": [],
   "source": [
    "import pandas as pd\n",
    "import matplotlib.pyplot as plt\n",
    "%matplotlib inline\n",
    "import os\n",
    "import numpy as np\n",
    "from collections import Counter\n",
    "from sklearn.model_selection import RepeatedKFold\n",
    "import pandas as pd\n",
    "from sklearn.model_selection import train_test_split\n",
    "from sklearn.metrics import mean_squared_error\n",
    "import math\n",
    "import random"
   ]
  },
  {
   "cell_type": "code",
   "execution_count": 2,
   "metadata": {
    "_cell_guid": "79c7e3d0-c299-4dcb-8224-4455121ee9b0",
    "_kg_hide-input": true,
    "_uuid": "d629ff2d2480ee46fbb7e2d37f6b5fab8052498a",
    "execution": {
     "iopub.execute_input": "2021-02-17T15:19:21.346977Z",
     "iopub.status.busy": "2021-02-17T15:19:21.346002Z",
     "iopub.status.idle": "2021-02-17T15:19:23.264719Z",
     "shell.execute_reply": "2021-02-17T15:19:23.265230Z"
    },
    "papermill": {
     "duration": 1.973624,
     "end_time": "2021-02-17T15:19:23.265822",
     "exception": false,
     "start_time": "2021-02-17T15:19:21.292198",
     "status": "completed"
    },
    "tags": []
   },
   "outputs": [],
   "source": [
    "path = '../input/datavaccine/vaccine'\n",
    "train = pd.read_json(f'{path}/train.json',lines=True)\n",
    "test = pd.read_json(f'{path}/test.json', lines=True)\n",
    "sub = pd.read_csv(f'{path}/sample_submission.csv')"
   ]
  },
  {
   "cell_type": "code",
   "execution_count": 3,
   "metadata": {
    "_kg_hide-input": true,
    "execution": {
     "iopub.execute_input": "2021-02-17T15:19:23.342832Z",
     "iopub.status.busy": "2021-02-17T15:19:23.341862Z",
     "iopub.status.idle": "2021-02-17T15:19:23.349560Z",
     "shell.execute_reply": "2021-02-17T15:19:23.350510Z"
    },
    "papermill": {
     "duration": 0.054446,
     "end_time": "2021-02-17T15:19:23.350733",
     "exception": false,
     "start_time": "2021-02-17T15:19:23.296287",
     "status": "completed"
    },
    "tags": []
   },
   "outputs": [
    {
     "data": {
      "text/plain": [
       "((2400, 19), 2400, (3634, 7), (457953, 6))"
      ]
     },
     "execution_count": 3,
     "metadata": {},
     "output_type": "execute_result"
    }
   ],
   "source": [
    "train.shape, train['id'].nunique(), test.shape, sub.shape"
   ]
  },
  {
   "cell_type": "code",
   "execution_count": 4,
   "metadata": {
    "_kg_hide-input": true,
    "execution": {
     "iopub.execute_input": "2021-02-17T15:19:23.450959Z",
     "iopub.status.busy": "2021-02-17T15:19:23.450069Z",
     "iopub.status.idle": "2021-02-17T15:19:23.611056Z",
     "shell.execute_reply": "2021-02-17T15:19:23.610203Z"
    },
    "papermill": {
     "duration": 0.213649,
     "end_time": "2021-02-17T15:19:23.611232",
     "exception": false,
     "start_time": "2021-02-17T15:19:23.397583",
     "status": "completed"
    },
    "tags": []
   },
   "outputs": [
    {
     "data": {
      "text/html": [
       "<div>\n",
       "<style scoped>\n",
       "    .dataframe tbody tr th:only-of-type {\n",
       "        vertical-align: middle;\n",
       "    }\n",
       "\n",
       "    .dataframe tbody tr th {\n",
       "        vertical-align: top;\n",
       "    }\n",
       "\n",
       "    .dataframe thead th {\n",
       "        text-align: right;\n",
       "    }\n",
       "</style>\n",
       "<table border=\"1\" class=\"dataframe\">\n",
       "  <thead>\n",
       "    <tr style=\"text-align: right;\">\n",
       "      <th></th>\n",
       "      <th>index</th>\n",
       "      <th>id</th>\n",
       "      <th>sequence</th>\n",
       "      <th>structure</th>\n",
       "      <th>predicted_loop_type</th>\n",
       "      <th>signal_to_noise</th>\n",
       "      <th>SN_filter</th>\n",
       "      <th>seq_length</th>\n",
       "      <th>seq_scored</th>\n",
       "      <th>reactivity_error</th>\n",
       "      <th>deg_error_Mg_pH10</th>\n",
       "      <th>deg_error_pH10</th>\n",
       "      <th>deg_error_Mg_50C</th>\n",
       "      <th>deg_error_50C</th>\n",
       "      <th>reactivity</th>\n",
       "      <th>deg_Mg_pH10</th>\n",
       "      <th>deg_pH10</th>\n",
       "      <th>deg_Mg_50C</th>\n",
       "      <th>deg_50C</th>\n",
       "    </tr>\n",
       "  </thead>\n",
       "  <tbody>\n",
       "    <tr>\n",
       "      <th>0</th>\n",
       "      <td>0</td>\n",
       "      <td>id_001f94081</td>\n",
       "      <td>GGAAAAGCUCUAAUAACAGGAGACUAGGACUACGUAUUUCUAGGUA...</td>\n",
       "      <td>.....((((((.......)))).)).((.....((..((((((......</td>\n",
       "      <td>EEEEESSSSSSHHHHHHHSSSSBSSXSSIIIIISSIISSSSSSHHH...</td>\n",
       "      <td>6.894</td>\n",
       "      <td>1</td>\n",
       "      <td>107</td>\n",
       "      <td>68</td>\n",
       "      <td>[0.1359, 0.20700000000000002, 0.1633, 0.1452, ...</td>\n",
       "      <td>[0.26130000000000003, 0.38420000000000004, 0.1...</td>\n",
       "      <td>[0.2631, 0.28600000000000003, 0.0964, 0.1574, ...</td>\n",
       "      <td>[0.1501, 0.275, 0.0947, 0.18660000000000002, 0...</td>\n",
       "      <td>[0.2167, 0.34750000000000003, 0.188, 0.2124, 0...</td>\n",
       "      <td>[0.3297, 1.5693000000000001, 1.1227, 0.8686, 0...</td>\n",
       "      <td>[0.7556, 2.983, 0.2526, 1.3789, 0.637600000000...</td>\n",
       "      <td>[2.3375, 3.5060000000000002, 0.3008, 1.0108, 0...</td>\n",
       "      <td>[0.35810000000000003, 2.9683, 0.2589, 1.4552, ...</td>\n",
       "      <td>[0.6382, 3.4773, 0.9988, 1.3228, 0.78770000000...</td>\n",
       "    </tr>\n",
       "    <tr>\n",
       "      <th>1</th>\n",
       "      <td>1</td>\n",
       "      <td>id_0049f53ba</td>\n",
       "      <td>GGAAAAAGCGCGCGCGGUUAGCGCGCGCUUUUGCGCGCGCUGUACC...</td>\n",
       "      <td>.....(((((((((((((((((((((((....)))))))))).)))...</td>\n",
       "      <td>EEEEESSSSSSSSSSSSSSSSSSSSSSSHHHHSSSSSSSSSSBSSS...</td>\n",
       "      <td>0.193</td>\n",
       "      <td>0</td>\n",
       "      <td>107</td>\n",
       "      <td>68</td>\n",
       "      <td>[2.8272, 2.8272, 2.8272, 4.7343, 2.5676, 2.567...</td>\n",
       "      <td>[73705.3985, 73705.3985, 73705.3985, 73705.398...</td>\n",
       "      <td>[10.1986, 9.2418, 5.0933, 5.0933, 5.0933, 5.09...</td>\n",
       "      <td>[16.6174, 13.868, 8.1968, 8.1968, 8.1968, 8.19...</td>\n",
       "      <td>[15.4857, 7.9596, 13.3957, 5.8777, 5.8777, 5.8...</td>\n",
       "      <td>[0.0, 0.0, 0.0, 2.2965, 0.0, 0.0, 0.0, 0.0, 0....</td>\n",
       "      <td>[0.0, 0.0, 0.0, 0.0, 0.0, 0.0, 0.0, 0.0, 0.0, ...</td>\n",
       "      <td>[4.947, 4.4523, 0.0, 0.0, 0.0, 0.0, 0.0, 0.0, ...</td>\n",
       "      <td>[4.8511, 4.0426, 0.0, 0.0, 0.0, 0.0, 0.0, 0.0,...</td>\n",
       "      <td>[7.6692, 0.0, 10.9561, 0.0, 0.0, 0.0, 0.0, 0.0...</td>\n",
       "    </tr>\n",
       "    <tr>\n",
       "      <th>2</th>\n",
       "      <td>2</td>\n",
       "      <td>id_006f36f57</td>\n",
       "      <td>GGAAAGUGCUCAGAUAAGCUAAGCUCGAAUAGCAAUCGAAUAGAAU...</td>\n",
       "      <td>.....((((.((.....((((.(((.....)))..((((......)...</td>\n",
       "      <td>EEEEESSSSISSIIIIISSSSMSSSHHHHHSSSMMSSSSHHHHHHS...</td>\n",
       "      <td>8.800</td>\n",
       "      <td>1</td>\n",
       "      <td>107</td>\n",
       "      <td>68</td>\n",
       "      <td>[0.0931, 0.13290000000000002, 0.11280000000000...</td>\n",
       "      <td>[0.1365, 0.2237, 0.1812, 0.1333, 0.1148, 0.160...</td>\n",
       "      <td>[0.17020000000000002, 0.178, 0.111, 0.091, 0.0...</td>\n",
       "      <td>[0.1033, 0.1464, 0.1126, 0.09620000000000001, ...</td>\n",
       "      <td>[0.14980000000000002, 0.1761, 0.1517, 0.116700...</td>\n",
       "      <td>[0.44820000000000004, 1.4822, 1.1819, 0.743400...</td>\n",
       "      <td>[0.2504, 1.4021, 0.9804, 0.49670000000000003, ...</td>\n",
       "      <td>[2.243, 2.9361, 1.0553, 0.721, 0.6396000000000...</td>\n",
       "      <td>[0.5163, 1.6823000000000001, 1.0426, 0.7902, 0...</td>\n",
       "      <td>[0.9501000000000001, 1.7974999999999999, 1.499...</td>\n",
       "    </tr>\n",
       "    <tr>\n",
       "      <th>3</th>\n",
       "      <td>3</td>\n",
       "      <td>id_0082d463b</td>\n",
       "      <td>GGAAAAGCGCGCGCGCGCGCGCGAAAAAGCGCGCGCGCGCGCGCGC...</td>\n",
       "      <td>......((((((((((((((((......))))))))))))))))((...</td>\n",
       "      <td>EEEEEESSSSSSSSSSSSSSSSHHHHHHSSSSSSSSSSSSSSSSSS...</td>\n",
       "      <td>0.104</td>\n",
       "      <td>0</td>\n",
       "      <td>107</td>\n",
       "      <td>68</td>\n",
       "      <td>[3.5229, 6.0748, 3.0374, 3.0374, 3.0374, 3.037...</td>\n",
       "      <td>[73705.3985, 73705.3985, 73705.3985, 73705.398...</td>\n",
       "      <td>[11.8007, 12.7566, 5.7733, 5.7733, 5.7733, 5.7...</td>\n",
       "      <td>[121286.7181, 121286.7182, 121286.7181, 121286...</td>\n",
       "      <td>[15.3995, 8.1124, 7.7824, 7.7824, 7.7824, 7.78...</td>\n",
       "      <td>[0.0, 2.2399, 0.0, 0.0, 0.0, 0.0, 0.0, 0.0, 0....</td>\n",
       "      <td>[0.0, -0.5083, 0.0, 0.0, 0.0, 0.0, 0.0, 0.0, 0...</td>\n",
       "      <td>[3.4248, 6.8128, 0.0, 0.0, 0.0, 0.0, 0.0, 0.0,...</td>\n",
       "      <td>[0.0, -0.8365, 0.0, 0.0, 0.0, 0.0, 0.0, 0.0, 0...</td>\n",
       "      <td>[7.6692, -1.3223, 0.0, 0.0, 0.0, 0.0, 0.0, 0.0...</td>\n",
       "    </tr>\n",
       "    <tr>\n",
       "      <th>4</th>\n",
       "      <td>4</td>\n",
       "      <td>id_0087940f4</td>\n",
       "      <td>GGAAAAUAUAUAAUAUAUUAUAUAAAUAUAUUAUAGAAGUAUAAUA...</td>\n",
       "      <td>.....(((((((.((((((((((((.(((((((((....)))))))...</td>\n",
       "      <td>EEEEESSSSSSSBSSSSSSSSSSSSBSSSSSSSSSHHHHSSSSSSS...</td>\n",
       "      <td>0.423</td>\n",
       "      <td>0</td>\n",
       "      <td>107</td>\n",
       "      <td>68</td>\n",
       "      <td>[1.665, 2.1728, 2.0041, 1.2405, 0.620200000000...</td>\n",
       "      <td>[4.2139, 3.9637000000000002, 3.2467, 2.4716, 1...</td>\n",
       "      <td>[3.0942, 3.015, 2.1212, 2.0552, 0.881500000000...</td>\n",
       "      <td>[2.6717, 2.4818, 1.9919, 2.5484999999999998, 1...</td>\n",
       "      <td>[1.3285, 3.6173, 1.3057, 1.3021, 1.1507, 1.150...</td>\n",
       "      <td>[0.8267, 2.6577, 2.8481, 0.40090000000000003, ...</td>\n",
       "      <td>[2.1058, 3.138, 2.5437000000000003, 1.0932, 0....</td>\n",
       "      <td>[4.7366, 4.6243, 1.2068, 1.1538, 0.0, 0.0, 0.7...</td>\n",
       "      <td>[2.2052, 1.7947000000000002, 0.7457, 3.1233, 0...</td>\n",
       "      <td>[0.0, 5.1198, -0.3551, -0.3518, 0.0, 0.0, 0.0,...</td>\n",
       "    </tr>\n",
       "  </tbody>\n",
       "</table>\n",
       "</div>"
      ],
      "text/plain": [
       "   index            id                                           sequence  \\\n",
       "0      0  id_001f94081  GGAAAAGCUCUAAUAACAGGAGACUAGGACUACGUAUUUCUAGGUA...   \n",
       "1      1  id_0049f53ba  GGAAAAAGCGCGCGCGGUUAGCGCGCGCUUUUGCGCGCGCUGUACC...   \n",
       "2      2  id_006f36f57  GGAAAGUGCUCAGAUAAGCUAAGCUCGAAUAGCAAUCGAAUAGAAU...   \n",
       "3      3  id_0082d463b  GGAAAAGCGCGCGCGCGCGCGCGAAAAAGCGCGCGCGCGCGCGCGC...   \n",
       "4      4  id_0087940f4  GGAAAAUAUAUAAUAUAUUAUAUAAAUAUAUUAUAGAAGUAUAAUA...   \n",
       "\n",
       "                                           structure  \\\n",
       "0  .....((((((.......)))).)).((.....((..((((((......   \n",
       "1  .....(((((((((((((((((((((((....)))))))))).)))...   \n",
       "2  .....((((.((.....((((.(((.....)))..((((......)...   \n",
       "3  ......((((((((((((((((......))))))))))))))))((...   \n",
       "4  .....(((((((.((((((((((((.(((((((((....)))))))...   \n",
       "\n",
       "                                 predicted_loop_type  signal_to_noise  \\\n",
       "0  EEEEESSSSSSHHHHHHHSSSSBSSXSSIIIIISSIISSSSSSHHH...            6.894   \n",
       "1  EEEEESSSSSSSSSSSSSSSSSSSSSSSHHHHSSSSSSSSSSBSSS...            0.193   \n",
       "2  EEEEESSSSISSIIIIISSSSMSSSHHHHHSSSMMSSSSHHHHHHS...            8.800   \n",
       "3  EEEEEESSSSSSSSSSSSSSSSHHHHHHSSSSSSSSSSSSSSSSSS...            0.104   \n",
       "4  EEEEESSSSSSSBSSSSSSSSSSSSBSSSSSSSSSHHHHSSSSSSS...            0.423   \n",
       "\n",
       "   SN_filter  seq_length  seq_scored  \\\n",
       "0          1         107          68   \n",
       "1          0         107          68   \n",
       "2          1         107          68   \n",
       "3          0         107          68   \n",
       "4          0         107          68   \n",
       "\n",
       "                                    reactivity_error  \\\n",
       "0  [0.1359, 0.20700000000000002, 0.1633, 0.1452, ...   \n",
       "1  [2.8272, 2.8272, 2.8272, 4.7343, 2.5676, 2.567...   \n",
       "2  [0.0931, 0.13290000000000002, 0.11280000000000...   \n",
       "3  [3.5229, 6.0748, 3.0374, 3.0374, 3.0374, 3.037...   \n",
       "4  [1.665, 2.1728, 2.0041, 1.2405, 0.620200000000...   \n",
       "\n",
       "                                   deg_error_Mg_pH10  \\\n",
       "0  [0.26130000000000003, 0.38420000000000004, 0.1...   \n",
       "1  [73705.3985, 73705.3985, 73705.3985, 73705.398...   \n",
       "2  [0.1365, 0.2237, 0.1812, 0.1333, 0.1148, 0.160...   \n",
       "3  [73705.3985, 73705.3985, 73705.3985, 73705.398...   \n",
       "4  [4.2139, 3.9637000000000002, 3.2467, 2.4716, 1...   \n",
       "\n",
       "                                      deg_error_pH10  \\\n",
       "0  [0.2631, 0.28600000000000003, 0.0964, 0.1574, ...   \n",
       "1  [10.1986, 9.2418, 5.0933, 5.0933, 5.0933, 5.09...   \n",
       "2  [0.17020000000000002, 0.178, 0.111, 0.091, 0.0...   \n",
       "3  [11.8007, 12.7566, 5.7733, 5.7733, 5.7733, 5.7...   \n",
       "4  [3.0942, 3.015, 2.1212, 2.0552, 0.881500000000...   \n",
       "\n",
       "                                    deg_error_Mg_50C  \\\n",
       "0  [0.1501, 0.275, 0.0947, 0.18660000000000002, 0...   \n",
       "1  [16.6174, 13.868, 8.1968, 8.1968, 8.1968, 8.19...   \n",
       "2  [0.1033, 0.1464, 0.1126, 0.09620000000000001, ...   \n",
       "3  [121286.7181, 121286.7182, 121286.7181, 121286...   \n",
       "4  [2.6717, 2.4818, 1.9919, 2.5484999999999998, 1...   \n",
       "\n",
       "                                       deg_error_50C  \\\n",
       "0  [0.2167, 0.34750000000000003, 0.188, 0.2124, 0...   \n",
       "1  [15.4857, 7.9596, 13.3957, 5.8777, 5.8777, 5.8...   \n",
       "2  [0.14980000000000002, 0.1761, 0.1517, 0.116700...   \n",
       "3  [15.3995, 8.1124, 7.7824, 7.7824, 7.7824, 7.78...   \n",
       "4  [1.3285, 3.6173, 1.3057, 1.3021, 1.1507, 1.150...   \n",
       "\n",
       "                                          reactivity  \\\n",
       "0  [0.3297, 1.5693000000000001, 1.1227, 0.8686, 0...   \n",
       "1  [0.0, 0.0, 0.0, 2.2965, 0.0, 0.0, 0.0, 0.0, 0....   \n",
       "2  [0.44820000000000004, 1.4822, 1.1819, 0.743400...   \n",
       "3  [0.0, 2.2399, 0.0, 0.0, 0.0, 0.0, 0.0, 0.0, 0....   \n",
       "4  [0.8267, 2.6577, 2.8481, 0.40090000000000003, ...   \n",
       "\n",
       "                                         deg_Mg_pH10  \\\n",
       "0  [0.7556, 2.983, 0.2526, 1.3789, 0.637600000000...   \n",
       "1  [0.0, 0.0, 0.0, 0.0, 0.0, 0.0, 0.0, 0.0, 0.0, ...   \n",
       "2  [0.2504, 1.4021, 0.9804, 0.49670000000000003, ...   \n",
       "3  [0.0, -0.5083, 0.0, 0.0, 0.0, 0.0, 0.0, 0.0, 0...   \n",
       "4  [2.1058, 3.138, 2.5437000000000003, 1.0932, 0....   \n",
       "\n",
       "                                            deg_pH10  \\\n",
       "0  [2.3375, 3.5060000000000002, 0.3008, 1.0108, 0...   \n",
       "1  [4.947, 4.4523, 0.0, 0.0, 0.0, 0.0, 0.0, 0.0, ...   \n",
       "2  [2.243, 2.9361, 1.0553, 0.721, 0.6396000000000...   \n",
       "3  [3.4248, 6.8128, 0.0, 0.0, 0.0, 0.0, 0.0, 0.0,...   \n",
       "4  [4.7366, 4.6243, 1.2068, 1.1538, 0.0, 0.0, 0.7...   \n",
       "\n",
       "                                          deg_Mg_50C  \\\n",
       "0  [0.35810000000000003, 2.9683, 0.2589, 1.4552, ...   \n",
       "1  [4.8511, 4.0426, 0.0, 0.0, 0.0, 0.0, 0.0, 0.0,...   \n",
       "2  [0.5163, 1.6823000000000001, 1.0426, 0.7902, 0...   \n",
       "3  [0.0, -0.8365, 0.0, 0.0, 0.0, 0.0, 0.0, 0.0, 0...   \n",
       "4  [2.2052, 1.7947000000000002, 0.7457, 3.1233, 0...   \n",
       "\n",
       "                                             deg_50C  \n",
       "0  [0.6382, 3.4773, 0.9988, 1.3228, 0.78770000000...  \n",
       "1  [7.6692, 0.0, 10.9561, 0.0, 0.0, 0.0, 0.0, 0.0...  \n",
       "2  [0.9501000000000001, 1.7974999999999999, 1.499...  \n",
       "3  [7.6692, -1.3223, 0.0, 0.0, 0.0, 0.0, 0.0, 0.0...  \n",
       "4  [0.0, 5.1198, -0.3551, -0.3518, 0.0, 0.0, 0.0,...  "
      ]
     },
     "execution_count": 4,
     "metadata": {},
     "output_type": "execute_result"
    }
   ],
   "source": [
    "train.head()"
   ]
  },
  {
   "cell_type": "code",
   "execution_count": 5,
   "metadata": {
    "_kg_hide-input": true,
    "execution": {
     "iopub.execute_input": "2021-02-17T15:19:23.718549Z",
     "iopub.status.busy": "2021-02-17T15:19:23.717217Z",
     "iopub.status.idle": "2021-02-17T15:19:23.746944Z",
     "shell.execute_reply": "2021-02-17T15:19:23.745652Z"
    },
    "papermill": {
     "duration": 0.089136,
     "end_time": "2021-02-17T15:19:23.747155",
     "exception": false,
     "start_time": "2021-02-17T15:19:23.658019",
     "status": "completed"
    },
    "tags": []
   },
   "outputs": [
    {
     "name": "stdout",
     "output_type": "stream",
     "text": [
      "<class 'pandas.core.frame.DataFrame'>\n",
      "RangeIndex: 2400 entries, 0 to 2399\n",
      "Data columns (total 19 columns):\n",
      " #   Column               Non-Null Count  Dtype  \n",
      "---  ------               --------------  -----  \n",
      " 0   index                2400 non-null   int64  \n",
      " 1   id                   2400 non-null   object \n",
      " 2   sequence             2400 non-null   object \n",
      " 3   structure            2400 non-null   object \n",
      " 4   predicted_loop_type  2400 non-null   object \n",
      " 5   signal_to_noise      2400 non-null   float64\n",
      " 6   SN_filter            2400 non-null   int64  \n",
      " 7   seq_length           2400 non-null   int64  \n",
      " 8   seq_scored           2400 non-null   int64  \n",
      " 9   reactivity_error     2400 non-null   object \n",
      " 10  deg_error_Mg_pH10    2400 non-null   object \n",
      " 11  deg_error_pH10       2400 non-null   object \n",
      " 12  deg_error_Mg_50C     2400 non-null   object \n",
      " 13  deg_error_50C        2400 non-null   object \n",
      " 14  reactivity           2400 non-null   object \n",
      " 15  deg_Mg_pH10          2400 non-null   object \n",
      " 16  deg_pH10             2400 non-null   object \n",
      " 17  deg_Mg_50C           2400 non-null   object \n",
      " 18  deg_50C              2400 non-null   object \n",
      "dtypes: float64(1), int64(4), object(14)\n",
      "memory usage: 356.4+ KB\n"
     ]
    }
   ],
   "source": [
    "train.info()"
   ]
  },
  {
   "cell_type": "markdown",
   "metadata": {
    "papermill": {
     "duration": 0.046513,
     "end_time": "2021-02-17T15:19:23.840484",
     "exception": false,
     "start_time": "2021-02-17T15:19:23.793971",
     "status": "completed"
    },
    "tags": []
   },
   "source": [
    "**memiliki 2400 sampel set data.  kita lihat semua informasi yang tersedia pada satu sampel**"
   ]
  },
  {
   "cell_type": "code",
   "execution_count": 6,
   "metadata": {
    "_kg_hide-input": true,
    "execution": {
     "iopub.execute_input": "2021-02-17T15:19:23.968864Z",
     "iopub.status.busy": "2021-02-17T15:19:23.967987Z",
     "iopub.status.idle": "2021-02-17T15:19:23.999989Z",
     "shell.execute_reply": "2021-02-17T15:19:23.999098Z"
    },
    "papermill": {
     "duration": 0.113207,
     "end_time": "2021-02-17T15:19:24.000298",
     "exception": false,
     "start_time": "2021-02-17T15:19:23.887091",
     "status": "completed"
    },
    "tags": []
   },
   "outputs": [
    {
     "data": {
      "text/html": [
       "<div>\n",
       "<style scoped>\n",
       "    .dataframe tbody tr th:only-of-type {\n",
       "        vertical-align: middle;\n",
       "    }\n",
       "\n",
       "    .dataframe tbody tr th {\n",
       "        vertical-align: top;\n",
       "    }\n",
       "\n",
       "    .dataframe thead th {\n",
       "        text-align: right;\n",
       "    }\n",
       "</style>\n",
       "<table border=\"1\" class=\"dataframe\">\n",
       "  <thead>\n",
       "    <tr style=\"text-align: right;\">\n",
       "      <th></th>\n",
       "      <th>index</th>\n",
       "      <th>id</th>\n",
       "      <th>sequence</th>\n",
       "      <th>structure</th>\n",
       "      <th>predicted_loop_type</th>\n",
       "      <th>signal_to_noise</th>\n",
       "      <th>SN_filter</th>\n",
       "      <th>seq_length</th>\n",
       "      <th>seq_scored</th>\n",
       "      <th>reactivity_error</th>\n",
       "      <th>deg_error_Mg_pH10</th>\n",
       "      <th>deg_error_pH10</th>\n",
       "      <th>deg_error_Mg_50C</th>\n",
       "      <th>deg_error_50C</th>\n",
       "      <th>reactivity</th>\n",
       "      <th>deg_Mg_pH10</th>\n",
       "      <th>deg_pH10</th>\n",
       "      <th>deg_Mg_50C</th>\n",
       "      <th>deg_50C</th>\n",
       "    </tr>\n",
       "  </thead>\n",
       "  <tbody>\n",
       "    <tr>\n",
       "      <th>0</th>\n",
       "      <td>0</td>\n",
       "      <td>id_001f94081</td>\n",
       "      <td>GGAAAAGCUCUAAUAACAGGAGACUAGGACUACGUAUUUCUAGGUA...</td>\n",
       "      <td>.....((((((.......)))).)).((.....((..((((((......</td>\n",
       "      <td>EEEEESSSSSSHHHHHHHSSSSBSSXSSIIIIISSIISSSSSSHHH...</td>\n",
       "      <td>6.894</td>\n",
       "      <td>1</td>\n",
       "      <td>107</td>\n",
       "      <td>68</td>\n",
       "      <td>[0.1359, 0.20700000000000002, 0.1633, 0.1452, ...</td>\n",
       "      <td>[0.26130000000000003, 0.38420000000000004, 0.1...</td>\n",
       "      <td>[0.2631, 0.28600000000000003, 0.0964, 0.1574, ...</td>\n",
       "      <td>[0.1501, 0.275, 0.0947, 0.18660000000000002, 0...</td>\n",
       "      <td>[0.2167, 0.34750000000000003, 0.188, 0.2124, 0...</td>\n",
       "      <td>[0.3297, 1.5693000000000001, 1.1227, 0.8686, 0...</td>\n",
       "      <td>[0.7556, 2.983, 0.2526, 1.3789, 0.637600000000...</td>\n",
       "      <td>[2.3375, 3.5060000000000002, 0.3008, 1.0108, 0...</td>\n",
       "      <td>[0.35810000000000003, 2.9683, 0.2589, 1.4552, ...</td>\n",
       "      <td>[0.6382, 3.4773, 0.9988, 1.3228, 0.78770000000...</td>\n",
       "    </tr>\n",
       "  </tbody>\n",
       "</table>\n",
       "</div>"
      ],
      "text/plain": [
       "   index            id                                           sequence  \\\n",
       "0      0  id_001f94081  GGAAAAGCUCUAAUAACAGGAGACUAGGACUACGUAUUUCUAGGUA...   \n",
       "\n",
       "                                           structure  \\\n",
       "0  .....((((((.......)))).)).((.....((..((((((......   \n",
       "\n",
       "                                 predicted_loop_type  signal_to_noise  \\\n",
       "0  EEEEESSSSSSHHHHHHHSSSSBSSXSSIIIIISSIISSSSSSHHH...            6.894   \n",
       "\n",
       "   SN_filter  seq_length  seq_scored  \\\n",
       "0          1         107          68   \n",
       "\n",
       "                                    reactivity_error  \\\n",
       "0  [0.1359, 0.20700000000000002, 0.1633, 0.1452, ...   \n",
       "\n",
       "                                   deg_error_Mg_pH10  \\\n",
       "0  [0.26130000000000003, 0.38420000000000004, 0.1...   \n",
       "\n",
       "                                      deg_error_pH10  \\\n",
       "0  [0.2631, 0.28600000000000003, 0.0964, 0.1574, ...   \n",
       "\n",
       "                                    deg_error_Mg_50C  \\\n",
       "0  [0.1501, 0.275, 0.0947, 0.18660000000000002, 0...   \n",
       "\n",
       "                                       deg_error_50C  \\\n",
       "0  [0.2167, 0.34750000000000003, 0.188, 0.2124, 0...   \n",
       "\n",
       "                                          reactivity  \\\n",
       "0  [0.3297, 1.5693000000000001, 1.1227, 0.8686, 0...   \n",
       "\n",
       "                                         deg_Mg_pH10  \\\n",
       "0  [0.7556, 2.983, 0.2526, 1.3789, 0.637600000000...   \n",
       "\n",
       "                                            deg_pH10  \\\n",
       "0  [2.3375, 3.5060000000000002, 0.3008, 1.0108, 0...   \n",
       "\n",
       "                                          deg_Mg_50C  \\\n",
       "0  [0.35810000000000003, 2.9683, 0.2589, 1.4552, ...   \n",
       "\n",
       "                                             deg_50C  \n",
       "0  [0.6382, 3.4773, 0.9988, 1.3228, 0.78770000000...  "
      ]
     },
     "execution_count": 6,
     "metadata": {},
     "output_type": "execute_result"
    }
   ],
   "source": [
    "sample = train.loc[train['id'] == 'id_001f94081']\n",
    "sample"
   ]
  },
  {
   "cell_type": "markdown",
   "metadata": {
    "papermill": {
     "duration": 0.049379,
     "end_time": "2021-02-17T15:19:24.101984",
     "exception": false,
     "start_time": "2021-02-17T15:19:24.052605",
     "status": "completed"
    },
    "tags": []
   },
   "source": [
    "### URUTAN"
   ]
  },
  {
   "cell_type": "code",
   "execution_count": 7,
   "metadata": {
    "_kg_hide-input": true,
    "execution": {
     "iopub.execute_input": "2021-02-17T15:19:24.203557Z",
     "iopub.status.busy": "2021-02-17T15:19:24.202675Z",
     "iopub.status.idle": "2021-02-17T15:19:24.210132Z",
     "shell.execute_reply": "2021-02-17T15:19:24.209349Z"
    },
    "papermill": {
     "duration": 0.061708,
     "end_time": "2021-02-17T15:19:24.210318",
     "exception": false,
     "start_time": "2021-02-17T15:19:24.148610",
     "status": "completed"
    },
    "tags": []
   },
   "outputs": [
    {
     "data": {
      "text/plain": [
       "'GGAAAAGCUCUAAUAACAGGAGACUAGGACUACGUAUUUCUAGGUAACUGGAAUAACCCAUACCAGCAGUUAGAGUUCGCUCUAACAAAAGAAACAACAACAACAAC'"
      ]
     },
     "execution_count": 7,
     "metadata": {},
     "output_type": "execute_result"
    }
   ],
   "source": [
    "sample['sequence'].values[0]"
   ]
  },
  {
   "cell_type": "code",
   "execution_count": 8,
   "metadata": {
    "_kg_hide-input": true,
    "execution": {
     "iopub.execute_input": "2021-02-17T15:19:24.316871Z",
     "iopub.status.busy": "2021-02-17T15:19:24.315594Z",
     "iopub.status.idle": "2021-02-17T15:19:24.321027Z",
     "shell.execute_reply": "2021-02-17T15:19:24.320186Z"
    },
    "papermill": {
     "duration": 0.062336,
     "end_time": "2021-02-17T15:19:24.321202",
     "exception": false,
     "start_time": "2021-02-17T15:19:24.258866",
     "status": "completed"
    },
    "tags": []
   },
   "outputs": [
    {
     "data": {
      "text/plain": [
       "Counter({'G': 19, 'A': 45, 'C': 23, 'U': 20})"
      ]
     },
     "execution_count": 8,
     "metadata": {},
     "output_type": "execute_result"
    }
   ],
   "source": [
    "Counter(sample['sequence'].values[0])"
   ]
  },
  {
   "cell_type": "markdown",
   "metadata": {
    "papermill": {
     "duration": 0.047519,
     "end_time": "2021-02-17T15:19:24.418476",
     "exception": false,
     "start_time": "2021-02-17T15:19:24.370957",
     "status": "completed"
    },
    "tags": []
   },
   "source": [
    "berikut adalah urutan RNA, kombinasi A, G, U, dan C untuk setiap sampel. Ada kolom terpisah yang menunjukkan panjang urutan - `seq_length`. Perhatikan juga bahwa ada kolom `seq_scored` - menunjukkan bahwa jumlah posisi ini memiliki nilai target.\n",
    "\n",
    "Sangat penting untuk diingat bahwa `seq_length` dan` seq_scored` berbeda dalam train dan test. berarti  kita harus dapat mengerjakan dengan urutan dengan panjang yang berbeda.\n",
    "\n"
   ]
  },
  {
   "cell_type": "markdown",
   "metadata": {
    "papermill": {
     "duration": 0.048111,
     "end_time": "2021-02-17T15:19:24.514398",
     "exception": false,
     "start_time": "2021-02-17T15:19:24.466287",
     "status": "completed"
    },
    "tags": []
   },
   "source": [
    "### STRUKTUR\n",
    "\n",
    "An array of (, ), dan . characters  menjelaskan apakah basis  akan dipasangkan atau tidak. Basis berpasangan dilambangkan dengan tanda kurung buka dan tutup, mis. (....) berarti basis 0 dipasangkan ke basis 5, dan basis 1-4 tidak berpasangan.\n",
    "\n"
   ]
  },
  {
   "cell_type": "code",
   "execution_count": 9,
   "metadata": {
    "_kg_hide-input": true,
    "execution": {
     "iopub.execute_input": "2021-02-17T15:19:24.618604Z",
     "iopub.status.busy": "2021-02-17T15:19:24.617471Z",
     "iopub.status.idle": "2021-02-17T15:19:24.623670Z",
     "shell.execute_reply": "2021-02-17T15:19:24.622737Z"
    },
    "papermill": {
     "duration": 0.061719,
     "end_time": "2021-02-17T15:19:24.623881",
     "exception": false,
     "start_time": "2021-02-17T15:19:24.562162",
     "status": "completed"
    },
    "tags": []
   },
   "outputs": [
    {
     "data": {
      "text/plain": [
       "'.....((((((.......)))).)).((.....((..((((((....))))))..)).....))....(((((((....))))))).....................'"
      ]
     },
     "execution_count": 9,
     "metadata": {},
     "output_type": "execute_result"
    }
   ],
   "source": [
    "sample['structure'].values[0]"
   ]
  },
  {
   "cell_type": "code",
   "execution_count": 10,
   "metadata": {
    "_kg_hide-input": true,
    "execution": {
     "iopub.execute_input": "2021-02-17T15:19:24.729517Z",
     "iopub.status.busy": "2021-02-17T15:19:24.728441Z",
     "iopub.status.idle": "2021-02-17T15:19:24.736156Z",
     "shell.execute_reply": "2021-02-17T15:19:24.735129Z"
    },
    "papermill": {
     "duration": 0.064115,
     "end_time": "2021-02-17T15:19:24.736335",
     "exception": false,
     "start_time": "2021-02-17T15:19:24.672220",
     "status": "completed"
    },
    "tags": []
   },
   "outputs": [
    {
     "data": {
      "text/plain": [
       "Counter({'.': 61, '(': 23, ')': 23})"
      ]
     },
     "execution_count": 10,
     "metadata": {},
     "output_type": "execute_result"
    }
   ],
   "source": [
    "Counter(sample['structure'].values[0])"
   ]
  },
  {
   "cell_type": "code",
   "execution_count": 11,
   "metadata": {
    "_kg_hide-input": true,
    "execution": {
     "iopub.execute_input": "2021-02-17T15:19:24.843856Z",
     "iopub.status.busy": "2021-02-17T15:19:24.842539Z",
     "iopub.status.idle": "2021-02-17T15:19:24.849514Z",
     "shell.execute_reply": "2021-02-17T15:19:24.850199Z"
    },
    "papermill": {
     "duration": 0.063063,
     "end_time": "2021-02-17T15:19:24.850439",
     "exception": false,
     "start_time": "2021-02-17T15:19:24.787376",
     "status": "completed"
    },
    "tags": []
   },
   "outputs": [
    {
     "data": {
      "text/plain": [
       "'EEEEESSSSSSHHHHHHHSSSSBSSXSSIIIIISSIISSSSSSHHHHSSSSSSIISSIIIIISSXXXXSSSSSSSHHHHSSSSSSSEEEEEEEEEEEEEEEEEEEEE'"
      ]
     },
     "execution_count": 11,
     "metadata": {},
     "output_type": "execute_result"
    }
   ],
   "source": [
    "sample['predicted_loop_type'].values[0]"
   ]
  },
  {
   "cell_type": "code",
   "execution_count": 12,
   "metadata": {
    "_kg_hide-input": true,
    "execution": {
     "iopub.execute_input": "2021-02-17T15:19:24.959767Z",
     "iopub.status.busy": "2021-02-17T15:19:24.958635Z",
     "iopub.status.idle": "2021-02-17T15:19:24.963709Z",
     "shell.execute_reply": "2021-02-17T15:19:24.962974Z"
    },
    "papermill": {
     "duration": 0.062755,
     "end_time": "2021-02-17T15:19:24.963935",
     "exception": false,
     "start_time": "2021-02-17T15:19:24.901180",
     "status": "completed"
    },
    "tags": []
   },
   "outputs": [
    {
     "data": {
      "text/plain": [
       "Counter({'E': 26, 'S': 46, 'H': 15, 'B': 1, 'X': 5, 'I': 14})"
      ]
     },
     "execution_count": 12,
     "metadata": {},
     "output_type": "execute_result"
    }
   ],
   "source": [
    "Counter(sample['predicted_loop_type'].values[0])"
   ]
  },
  {
   "cell_type": "code",
   "execution_count": 13,
   "metadata": {
    "execution": {
     "iopub.execute_input": "2021-02-17T15:19:25.072914Z",
     "iopub.status.busy": "2021-02-17T15:19:25.072024Z",
     "iopub.status.idle": "2021-02-17T15:19:25.124443Z",
     "shell.execute_reply": "2021-02-17T15:19:25.125115Z"
    },
    "papermill": {
     "duration": 0.107408,
     "end_time": "2021-02-17T15:19:25.125357",
     "exception": false,
     "start_time": "2021-02-17T15:19:25.017949",
     "status": "completed"
    },
    "tags": []
   },
   "outputs": [
    {
     "data": {
      "text/html": [
       "<div>\n",
       "<style scoped>\n",
       "    .dataframe tbody tr th:only-of-type {\n",
       "        vertical-align: middle;\n",
       "    }\n",
       "\n",
       "    .dataframe tbody tr th {\n",
       "        vertical-align: top;\n",
       "    }\n",
       "\n",
       "    .dataframe thead th {\n",
       "        text-align: right;\n",
       "    }\n",
       "</style>\n",
       "<table border=\"1\" class=\"dataframe\">\n",
       "  <thead>\n",
       "    <tr style=\"text-align: right;\">\n",
       "      <th></th>\n",
       "      <th>index</th>\n",
       "      <th>id</th>\n",
       "      <th>sequence</th>\n",
       "      <th>structure</th>\n",
       "      <th>predicted_loop_type</th>\n",
       "      <th>signal_to_noise</th>\n",
       "      <th>SN_filter</th>\n",
       "      <th>seq_length</th>\n",
       "      <th>seq_scored</th>\n",
       "      <th>reactivity_error</th>\n",
       "      <th>deg_error_Mg_pH10</th>\n",
       "      <th>deg_error_pH10</th>\n",
       "      <th>deg_error_Mg_50C</th>\n",
       "      <th>deg_error_50C</th>\n",
       "      <th>reactivity</th>\n",
       "      <th>deg_Mg_pH10</th>\n",
       "      <th>deg_pH10</th>\n",
       "      <th>deg_Mg_50C</th>\n",
       "      <th>deg_50C</th>\n",
       "    </tr>\n",
       "  </thead>\n",
       "  <tbody>\n",
       "    <tr>\n",
       "      <th>0</th>\n",
       "      <td>0</td>\n",
       "      <td>id_001f94081</td>\n",
       "      <td>GGAAAAGCUCUAAUAACAGGAGACUAGGACUACGUAUUUCUAGGUA...</td>\n",
       "      <td>.....((((((.......)))).)).((.....((..((((((......</td>\n",
       "      <td>EEEEESSSSSSHHHHHHHSSSSBSSXSSIIIIISSIISSSSSSHHH...</td>\n",
       "      <td>6.894</td>\n",
       "      <td>1</td>\n",
       "      <td>107</td>\n",
       "      <td>68</td>\n",
       "      <td>[0.1359, 0.20700000000000002, 0.1633, 0.1452, ...</td>\n",
       "      <td>[0.26130000000000003, 0.38420000000000004, 0.1...</td>\n",
       "      <td>[0.2631, 0.28600000000000003, 0.0964, 0.1574, ...</td>\n",
       "      <td>[0.1501, 0.275, 0.0947, 0.18660000000000002, 0...</td>\n",
       "      <td>[0.2167, 0.34750000000000003, 0.188, 0.2124, 0...</td>\n",
       "      <td>[0.3297, 1.5693000000000001, 1.1227, 0.8686, 0...</td>\n",
       "      <td>[0.7556, 2.983, 0.2526, 1.3789, 0.637600000000...</td>\n",
       "      <td>[2.3375, 3.5060000000000002, 0.3008, 1.0108, 0...</td>\n",
       "      <td>[0.35810000000000003, 2.9683, 0.2589, 1.4552, ...</td>\n",
       "      <td>[0.6382, 3.4773, 0.9988, 1.3228, 0.78770000000...</td>\n",
       "    </tr>\n",
       "  </tbody>\n",
       "</table>\n",
       "</div>"
      ],
      "text/plain": [
       "   index            id                                           sequence  \\\n",
       "0      0  id_001f94081  GGAAAAGCUCUAAUAACAGGAGACUAGGACUACGUAUUUCUAGGUA...   \n",
       "\n",
       "                                           structure  \\\n",
       "0  .....((((((.......)))).)).((.....((..((((((......   \n",
       "\n",
       "                                 predicted_loop_type  signal_to_noise  \\\n",
       "0  EEEEESSSSSSHHHHHHHSSSSBSSXSSIIIIISSIISSSSSSHHH...            6.894   \n",
       "\n",
       "   SN_filter  seq_length  seq_scored  \\\n",
       "0          1         107          68   \n",
       "\n",
       "                                    reactivity_error  \\\n",
       "0  [0.1359, 0.20700000000000002, 0.1633, 0.1452, ...   \n",
       "\n",
       "                                   deg_error_Mg_pH10  \\\n",
       "0  [0.26130000000000003, 0.38420000000000004, 0.1...   \n",
       "\n",
       "                                      deg_error_pH10  \\\n",
       "0  [0.2631, 0.28600000000000003, 0.0964, 0.1574, ...   \n",
       "\n",
       "                                    deg_error_Mg_50C  \\\n",
       "0  [0.1501, 0.275, 0.0947, 0.18660000000000002, 0...   \n",
       "\n",
       "                                       deg_error_50C  \\\n",
       "0  [0.2167, 0.34750000000000003, 0.188, 0.2124, 0...   \n",
       "\n",
       "                                          reactivity  \\\n",
       "0  [0.3297, 1.5693000000000001, 1.1227, 0.8686, 0...   \n",
       "\n",
       "                                         deg_Mg_pH10  \\\n",
       "0  [0.7556, 2.983, 0.2526, 1.3789, 0.637600000000...   \n",
       "\n",
       "                                            deg_pH10  \\\n",
       "0  [2.3375, 3.5060000000000002, 0.3008, 1.0108, 0...   \n",
       "\n",
       "                                          deg_Mg_50C  \\\n",
       "0  [0.35810000000000003, 2.9683, 0.2589, 1.4552, ...   \n",
       "\n",
       "                                             deg_50C  \n",
       "0  [0.6382, 3.4773, 0.9988, 1.3228, 0.78770000000...  "
      ]
     },
     "execution_count": 13,
     "metadata": {},
     "output_type": "execute_result"
    }
   ],
   "source": [
    "sample"
   ]
  },
  {
   "cell_type": "markdown",
   "metadata": {
    "papermill": {
     "duration": 0.051348,
     "end_time": "2021-02-17T15:19:25.230977",
     "exception": false,
     "start_time": "2021-02-17T15:19:25.179629",
     "status": "completed"
    },
    "tags": []
   },
   "source": [
    "Perhatikan bahwa untuk penilaian kita hanya perlu memprediksi `reactivity``,` deg_Mg_pH10` dan `deg_Mg_50C`.\n",
    "\n"
   ]
  },
  {
   "cell_type": "code",
   "execution_count": 14,
   "metadata": {
    "_kg_hide-input": true,
    "execution": {
     "iopub.execute_input": "2021-02-17T15:19:25.340100Z",
     "iopub.status.busy": "2021-02-17T15:19:25.339064Z",
     "iopub.status.idle": "2021-02-17T15:19:25.343040Z",
     "shell.execute_reply": "2021-02-17T15:19:25.343843Z"
    },
    "papermill": {
     "duration": 0.062976,
     "end_time": "2021-02-17T15:19:25.344054",
     "exception": false,
     "start_time": "2021-02-17T15:19:25.281078",
     "status": "completed"
    },
    "tags": []
   },
   "outputs": [
    {
     "data": {
      "text/plain": [
       "68"
      ]
     },
     "execution_count": 14,
     "metadata": {},
     "output_type": "execute_result"
    }
   ],
   "source": [
    "len(sample['reactivity'].values[0])"
   ]
  },
  {
   "cell_type": "markdown",
   "metadata": {
    "papermill": {
     "duration": 0.051183,
     "end_time": "2021-02-17T15:19:25.449574",
     "exception": false,
     "start_time": "2021-02-17T15:19:25.398391",
     "status": "completed"
    },
    "tags": []
   },
   "source": [
    "\n",
    "\n",
    "Beberapa representasi data"
   ]
  },
  {
   "cell_type": "code",
   "execution_count": 15,
   "metadata": {
    "_kg_hide-input": true,
    "execution": {
     "iopub.execute_input": "2021-02-17T15:19:25.558471Z",
     "iopub.status.busy": "2021-02-17T15:19:25.557261Z",
     "iopub.status.idle": "2021-02-17T15:19:25.827399Z",
     "shell.execute_reply": "2021-02-17T15:19:25.826631Z"
    },
    "papermill": {
     "duration": 0.326034,
     "end_time": "2021-02-17T15:19:25.827596",
     "exception": false,
     "start_time": "2021-02-17T15:19:25.501562",
     "status": "completed"
    },
    "tags": []
   },
   "outputs": [
    {
     "data": {
      "image/png": "[encoded data removed]",
      "text/plain": [
       "<Figure size 432x288 with 1 Axes>"
      ]
     },
     "metadata": {
      "needs_background": "light"
     },
     "output_type": "display_data"
    }
   ],
   "source": [
    "mol = np.load('../input/nploads/np/id_00e99b69c.npy')\n",
    "plt.imshow(mol);"
   ]
  },
  {
   "cell_type": "code",
   "execution_count": 16,
   "metadata": {
    "_kg_hide-input": true,
    "execution": {
     "iopub.execute_input": "2021-02-17T15:19:25.944731Z",
     "iopub.status.busy": "2021-02-17T15:19:25.944035Z",
     "iopub.status.idle": "2021-02-17T15:19:25.950145Z",
     "shell.execute_reply": "2021-02-17T15:19:25.949508Z"
    },
    "papermill": {
     "duration": 0.067658,
     "end_time": "2021-02-17T15:19:25.950301",
     "exception": false,
     "start_time": "2021-02-17T15:19:25.882643",
     "status": "completed"
    },
    "tags": []
   },
   "outputs": [
    {
     "data": {
      "text/plain": [
       "68    2400\n",
       "Name: seq_scored, dtype: int64"
      ]
     },
     "execution_count": 16,
     "metadata": {},
     "output_type": "execute_result"
    }
   ],
   "source": [
    "train['seq_scored'].value_counts()"
   ]
  },
  {
   "cell_type": "code",
   "execution_count": 17,
   "metadata": {
    "_kg_hide-input": true,
    "execution": {
     "iopub.execute_input": "2021-02-17T15:19:26.028754Z",
     "iopub.status.busy": "2021-02-17T15:19:26.028090Z",
     "iopub.status.idle": "2021-02-17T15:19:26.040618Z",
     "shell.execute_reply": "2021-02-17T15:19:26.038584Z"
    },
    "papermill": {
     "duration": 0.054373,
     "end_time": "2021-02-17T15:19:26.040993",
     "exception": false,
     "start_time": "2021-02-17T15:19:25.986620",
     "status": "completed"
    },
    "tags": []
   },
   "outputs": [
    {
     "data": {
      "text/plain": [
       "91    3005\n",
       "68     629\n",
       "Name: seq_scored, dtype: int64"
      ]
     },
     "execution_count": 17,
     "metadata": {},
     "output_type": "execute_result"
    }
   ],
   "source": [
    "test['seq_scored'].value_counts()"
   ]
  },
  {
   "cell_type": "code",
   "execution_count": 18,
   "metadata": {
    "_kg_hide-input": true,
    "execution": {
     "iopub.execute_input": "2021-02-17T15:19:26.210990Z",
     "iopub.status.busy": "2021-02-17T15:19:26.175133Z",
     "iopub.status.idle": "2021-02-17T15:19:26.263940Z",
     "shell.execute_reply": "2021-02-17T15:19:26.263096Z"
    },
    "papermill": {
     "duration": 0.170262,
     "end_time": "2021-02-17T15:19:26.264128",
     "exception": false,
     "start_time": "2021-02-17T15:19:26.093866",
     "status": "completed"
    },
    "tags": []
   },
   "outputs": [
    {
     "data": {
      "text/html": [
       "<div>\n",
       "<style scoped>\n",
       "    .dataframe tbody tr th:only-of-type {\n",
       "        vertical-align: middle;\n",
       "    }\n",
       "\n",
       "    .dataframe tbody tr th {\n",
       "        vertical-align: top;\n",
       "    }\n",
       "\n",
       "    .dataframe thead th {\n",
       "        text-align: right;\n",
       "    }\n",
       "</style>\n",
       "<table border=\"1\" class=\"dataframe\">\n",
       "  <thead>\n",
       "    <tr style=\"text-align: right;\">\n",
       "      <th></th>\n",
       "      <th>index</th>\n",
       "      <th>id</th>\n",
       "      <th>sequence</th>\n",
       "      <th>structure</th>\n",
       "      <th>predicted_loop_type</th>\n",
       "      <th>signal_to_noise</th>\n",
       "      <th>SN_filter</th>\n",
       "      <th>seq_length</th>\n",
       "      <th>seq_scored</th>\n",
       "      <th>reactivity_error</th>\n",
       "      <th>deg_error_Mg_pH10</th>\n",
       "      <th>deg_error_pH10</th>\n",
       "      <th>deg_error_Mg_50C</th>\n",
       "      <th>deg_error_50C</th>\n",
       "      <th>reactivity</th>\n",
       "      <th>deg_Mg_pH10</th>\n",
       "      <th>deg_pH10</th>\n",
       "      <th>deg_Mg_50C</th>\n",
       "      <th>deg_50C</th>\n",
       "    </tr>\n",
       "  </thead>\n",
       "  <tbody>\n",
       "    <tr>\n",
       "      <th>0</th>\n",
       "      <td>0</td>\n",
       "      <td>id_001f94081</td>\n",
       "      <td>GGAAAAGCUCUAAUAACAGGAGACUAGGACUACGUAUUUCUAGGUA...</td>\n",
       "      <td>.....((((((.......)))).)).((.....((..((((((......</td>\n",
       "      <td>EEEEESSSSSSHHHHHHHSSSSBSSXSSIIIIISSIISSSSSSHHH...</td>\n",
       "      <td>6.894</td>\n",
       "      <td>1</td>\n",
       "      <td>107</td>\n",
       "      <td>68</td>\n",
       "      <td>[0.1359, 0.20700000000000002, 0.1633, 0.1452, ...</td>\n",
       "      <td>[0.26130000000000003, 0.38420000000000004, 0.1...</td>\n",
       "      <td>[0.2631, 0.28600000000000003, 0.0964, 0.1574, ...</td>\n",
       "      <td>[0.1501, 0.275, 0.0947, 0.18660000000000002, 0...</td>\n",
       "      <td>[0.2167, 0.34750000000000003, 0.188, 0.2124, 0...</td>\n",
       "      <td>[0.3297, 1.5693000000000001, 1.1227, 0.8686, 0...</td>\n",
       "      <td>[0.7556, 2.983, 0.2526, 1.3789, 0.637600000000...</td>\n",
       "      <td>[2.3375, 3.5060000000000002, 0.3008, 1.0108, 0...</td>\n",
       "      <td>[0.35810000000000003, 2.9683, 0.2589, 1.4552, ...</td>\n",
       "      <td>[0.6382, 3.4773, 0.9988, 1.3228, 0.78770000000...</td>\n",
       "    </tr>\n",
       "    <tr>\n",
       "      <th>1</th>\n",
       "      <td>1</td>\n",
       "      <td>id_0049f53ba</td>\n",
       "      <td>GGAAAAAGCGCGCGCGGUUAGCGCGCGCUUUUGCGCGCGCUGUACC...</td>\n",
       "      <td>.....(((((((((((((((((((((((....)))))))))).)))...</td>\n",
       "      <td>EEEEESSSSSSSSSSSSSSSSSSSSSSSHHHHSSSSSSSSSSBSSS...</td>\n",
       "      <td>0.193</td>\n",
       "      <td>0</td>\n",
       "      <td>107</td>\n",
       "      <td>68</td>\n",
       "      <td>[2.8272, 2.8272, 2.8272, 4.7343, 2.5676, 2.567...</td>\n",
       "      <td>[73705.3985, 73705.3985, 73705.3985, 73705.398...</td>\n",
       "      <td>[10.1986, 9.2418, 5.0933, 5.0933, 5.0933, 5.09...</td>\n",
       "      <td>[16.6174, 13.868, 8.1968, 8.1968, 8.1968, 8.19...</td>\n",
       "      <td>[15.4857, 7.9596, 13.3957, 5.8777, 5.8777, 5.8...</td>\n",
       "      <td>[0.0, 0.0, 0.0, 2.2965, 0.0, 0.0, 0.0, 0.0, 0....</td>\n",
       "      <td>[0.0, 0.0, 0.0, 0.0, 0.0, 0.0, 0.0, 0.0, 0.0, ...</td>\n",
       "      <td>[4.947, 4.4523, 0.0, 0.0, 0.0, 0.0, 0.0, 0.0, ...</td>\n",
       "      <td>[4.8511, 4.0426, 0.0, 0.0, 0.0, 0.0, 0.0, 0.0,...</td>\n",
       "      <td>[7.6692, 0.0, 10.9561, 0.0, 0.0, 0.0, 0.0, 0.0...</td>\n",
       "    </tr>\n",
       "    <tr>\n",
       "      <th>2</th>\n",
       "      <td>2</td>\n",
       "      <td>id_006f36f57</td>\n",
       "      <td>GGAAAGUGCUCAGAUAAGCUAAGCUCGAAUAGCAAUCGAAUAGAAU...</td>\n",
       "      <td>.....((((.((.....((((.(((.....)))..((((......)...</td>\n",
       "      <td>EEEEESSSSISSIIIIISSSSMSSSHHHHHSSSMMSSSSHHHHHHS...</td>\n",
       "      <td>8.800</td>\n",
       "      <td>1</td>\n",
       "      <td>107</td>\n",
       "      <td>68</td>\n",
       "      <td>[0.0931, 0.13290000000000002, 0.11280000000000...</td>\n",
       "      <td>[0.1365, 0.2237, 0.1812, 0.1333, 0.1148, 0.160...</td>\n",
       "      <td>[0.17020000000000002, 0.178, 0.111, 0.091, 0.0...</td>\n",
       "      <td>[0.1033, 0.1464, 0.1126, 0.09620000000000001, ...</td>\n",
       "      <td>[0.14980000000000002, 0.1761, 0.1517, 0.116700...</td>\n",
       "      <td>[0.44820000000000004, 1.4822, 1.1819, 0.743400...</td>\n",
       "      <td>[0.2504, 1.4021, 0.9804, 0.49670000000000003, ...</td>\n",
       "      <td>[2.243, 2.9361, 1.0553, 0.721, 0.6396000000000...</td>\n",
       "      <td>[0.5163, 1.6823000000000001, 1.0426, 0.7902, 0...</td>\n",
       "      <td>[0.9501000000000001, 1.7974999999999999, 1.499...</td>\n",
       "    </tr>\n",
       "    <tr>\n",
       "      <th>3</th>\n",
       "      <td>3</td>\n",
       "      <td>id_0082d463b</td>\n",
       "      <td>GGAAAAGCGCGCGCGCGCGCGCGAAAAAGCGCGCGCGCGCGCGCGC...</td>\n",
       "      <td>......((((((((((((((((......))))))))))))))))((...</td>\n",
       "      <td>EEEEEESSSSSSSSSSSSSSSSHHHHHHSSSSSSSSSSSSSSSSSS...</td>\n",
       "      <td>0.104</td>\n",
       "      <td>0</td>\n",
       "      <td>107</td>\n",
       "      <td>68</td>\n",
       "      <td>[3.5229, 6.0748, 3.0374, 3.0374, 3.0374, 3.037...</td>\n",
       "      <td>[73705.3985, 73705.3985, 73705.3985, 73705.398...</td>\n",
       "      <td>[11.8007, 12.7566, 5.7733, 5.7733, 5.7733, 5.7...</td>\n",
       "      <td>[121286.7181, 121286.7182, 121286.7181, 121286...</td>\n",
       "      <td>[15.3995, 8.1124, 7.7824, 7.7824, 7.7824, 7.78...</td>\n",
       "      <td>[0.0, 2.2399, 0.0, 0.0, 0.0, 0.0, 0.0, 0.0, 0....</td>\n",
       "      <td>[0.0, -0.5083, 0.0, 0.0, 0.0, 0.0, 0.0, 0.0, 0...</td>\n",
       "      <td>[3.4248, 6.8128, 0.0, 0.0, 0.0, 0.0, 0.0, 0.0,...</td>\n",
       "      <td>[0.0, -0.8365, 0.0, 0.0, 0.0, 0.0, 0.0, 0.0, 0...</td>\n",
       "      <td>[7.6692, -1.3223, 0.0, 0.0, 0.0, 0.0, 0.0, 0.0...</td>\n",
       "    </tr>\n",
       "    <tr>\n",
       "      <th>4</th>\n",
       "      <td>4</td>\n",
       "      <td>id_0087940f4</td>\n",
       "      <td>GGAAAAUAUAUAAUAUAUUAUAUAAAUAUAUUAUAGAAGUAUAAUA...</td>\n",
       "      <td>.....(((((((.((((((((((((.(((((((((....)))))))...</td>\n",
       "      <td>EEEEESSSSSSSBSSSSSSSSSSSSBSSSSSSSSSHHHHSSSSSSS...</td>\n",
       "      <td>0.423</td>\n",
       "      <td>0</td>\n",
       "      <td>107</td>\n",
       "      <td>68</td>\n",
       "      <td>[1.665, 2.1728, 2.0041, 1.2405, 0.620200000000...</td>\n",
       "      <td>[4.2139, 3.9637000000000002, 3.2467, 2.4716, 1...</td>\n",
       "      <td>[3.0942, 3.015, 2.1212, 2.0552, 0.881500000000...</td>\n",
       "      <td>[2.6717, 2.4818, 1.9919, 2.5484999999999998, 1...</td>\n",
       "      <td>[1.3285, 3.6173, 1.3057, 1.3021, 1.1507, 1.150...</td>\n",
       "      <td>[0.8267, 2.6577, 2.8481, 0.40090000000000003, ...</td>\n",
       "      <td>[2.1058, 3.138, 2.5437000000000003, 1.0932, 0....</td>\n",
       "      <td>[4.7366, 4.6243, 1.2068, 1.1538, 0.0, 0.0, 0.7...</td>\n",
       "      <td>[2.2052, 1.7947000000000002, 0.7457, 3.1233, 0...</td>\n",
       "      <td>[0.0, 5.1198, -0.3551, -0.3518, 0.0, 0.0, 0.0,...</td>\n",
       "    </tr>\n",
       "  </tbody>\n",
       "</table>\n",
       "</div>"
      ],
      "text/plain": [
       "   index            id                                           sequence  \\\n",
       "0      0  id_001f94081  GGAAAAGCUCUAAUAACAGGAGACUAGGACUACGUAUUUCUAGGUA...   \n",
       "1      1  id_0049f53ba  GGAAAAAGCGCGCGCGGUUAGCGCGCGCUUUUGCGCGCGCUGUACC...   \n",
       "2      2  id_006f36f57  GGAAAGUGCUCAGAUAAGCUAAGCUCGAAUAGCAAUCGAAUAGAAU...   \n",
       "3      3  id_0082d463b  GGAAAAGCGCGCGCGCGCGCGCGAAAAAGCGCGCGCGCGCGCGCGC...   \n",
       "4      4  id_0087940f4  GGAAAAUAUAUAAUAUAUUAUAUAAAUAUAUUAUAGAAGUAUAAUA...   \n",
       "\n",
       "                                           structure  \\\n",
       "0  .....((((((.......)))).)).((.....((..((((((......   \n",
       "1  .....(((((((((((((((((((((((....)))))))))).)))...   \n",
       "2  .....((((.((.....((((.(((.....)))..((((......)...   \n",
       "3  ......((((((((((((((((......))))))))))))))))((...   \n",
       "4  .....(((((((.((((((((((((.(((((((((....)))))))...   \n",
       "\n",
       "                                 predicted_loop_type  signal_to_noise  \\\n",
       "0  EEEEESSSSSSHHHHHHHSSSSBSSXSSIIIIISSIISSSSSSHHH...            6.894   \n",
       "1  EEEEESSSSSSSSSSSSSSSSSSSSSSSHHHHSSSSSSSSSSBSSS...            0.193   \n",
       "2  EEEEESSSSISSIIIIISSSSMSSSHHHHHSSSMMSSSSHHHHHHS...            8.800   \n",
       "3  EEEEEESSSSSSSSSSSSSSSSHHHHHHSSSSSSSSSSSSSSSSSS...            0.104   \n",
       "4  EEEEESSSSSSSBSSSSSSSSSSSSBSSSSSSSSSHHHHSSSSSSS...            0.423   \n",
       "\n",
       "   SN_filter  seq_length  seq_scored  \\\n",
       "0          1         107          68   \n",
       "1          0         107          68   \n",
       "2          1         107          68   \n",
       "3          0         107          68   \n",
       "4          0         107          68   \n",
       "\n",
       "                                    reactivity_error  \\\n",
       "0  [0.1359, 0.20700000000000002, 0.1633, 0.1452, ...   \n",
       "1  [2.8272, 2.8272, 2.8272, 4.7343, 2.5676, 2.567...   \n",
       "2  [0.0931, 0.13290000000000002, 0.11280000000000...   \n",
       "3  [3.5229, 6.0748, 3.0374, 3.0374, 3.0374, 3.037...   \n",
       "4  [1.665, 2.1728, 2.0041, 1.2405, 0.620200000000...   \n",
       "\n",
       "                                   deg_error_Mg_pH10  \\\n",
       "0  [0.26130000000000003, 0.38420000000000004, 0.1...   \n",
       "1  [73705.3985, 73705.3985, 73705.3985, 73705.398...   \n",
       "2  [0.1365, 0.2237, 0.1812, 0.1333, 0.1148, 0.160...   \n",
       "3  [73705.3985, 73705.3985, 73705.3985, 73705.398...   \n",
       "4  [4.2139, 3.9637000000000002, 3.2467, 2.4716, 1...   \n",
       "\n",
       "                                      deg_error_pH10  \\\n",
       "0  [0.2631, 0.28600000000000003, 0.0964, 0.1574, ...   \n",
       "1  [10.1986, 9.2418, 5.0933, 5.0933, 5.0933, 5.09...   \n",
       "2  [0.17020000000000002, 0.178, 0.111, 0.091, 0.0...   \n",
       "3  [11.8007, 12.7566, 5.7733, 5.7733, 5.7733, 5.7...   \n",
       "4  [3.0942, 3.015, 2.1212, 2.0552, 0.881500000000...   \n",
       "\n",
       "                                    deg_error_Mg_50C  \\\n",
       "0  [0.1501, 0.275, 0.0947, 0.18660000000000002, 0...   \n",
       "1  [16.6174, 13.868, 8.1968, 8.1968, 8.1968, 8.19...   \n",
       "2  [0.1033, 0.1464, 0.1126, 0.09620000000000001, ...   \n",
       "3  [121286.7181, 121286.7182, 121286.7181, 121286...   \n",
       "4  [2.6717, 2.4818, 1.9919, 2.5484999999999998, 1...   \n",
       "\n",
       "                                       deg_error_50C  \\\n",
       "0  [0.2167, 0.34750000000000003, 0.188, 0.2124, 0...   \n",
       "1  [15.4857, 7.9596, 13.3957, 5.8777, 5.8777, 5.8...   \n",
       "2  [0.14980000000000002, 0.1761, 0.1517, 0.116700...   \n",
       "3  [15.3995, 8.1124, 7.7824, 7.7824, 7.7824, 7.78...   \n",
       "4  [1.3285, 3.6173, 1.3057, 1.3021, 1.1507, 1.150...   \n",
       "\n",
       "                                          reactivity  \\\n",
       "0  [0.3297, 1.5693000000000001, 1.1227, 0.8686, 0...   \n",
       "1  [0.0, 0.0, 0.0, 2.2965, 0.0, 0.0, 0.0, 0.0, 0....   \n",
       "2  [0.44820000000000004, 1.4822, 1.1819, 0.743400...   \n",
       "3  [0.0, 2.2399, 0.0, 0.0, 0.0, 0.0, 0.0, 0.0, 0....   \n",
       "4  [0.8267, 2.6577, 2.8481, 0.40090000000000003, ...   \n",
       "\n",
       "                                         deg_Mg_pH10  \\\n",
       "0  [0.7556, 2.983, 0.2526, 1.3789, 0.637600000000...   \n",
       "1  [0.0, 0.0, 0.0, 0.0, 0.0, 0.0, 0.0, 0.0, 0.0, ...   \n",
       "2  [0.2504, 1.4021, 0.9804, 0.49670000000000003, ...   \n",
       "3  [0.0, -0.5083, 0.0, 0.0, 0.0, 0.0, 0.0, 0.0, 0...   \n",
       "4  [2.1058, 3.138, 2.5437000000000003, 1.0932, 0....   \n",
       "\n",
       "                                            deg_pH10  \\\n",
       "0  [2.3375, 3.5060000000000002, 0.3008, 1.0108, 0...   \n",
       "1  [4.947, 4.4523, 0.0, 0.0, 0.0, 0.0, 0.0, 0.0, ...   \n",
       "2  [2.243, 2.9361, 1.0553, 0.721, 0.6396000000000...   \n",
       "3  [3.4248, 6.8128, 0.0, 0.0, 0.0, 0.0, 0.0, 0.0,...   \n",
       "4  [4.7366, 4.6243, 1.2068, 1.1538, 0.0, 0.0, 0.7...   \n",
       "\n",
       "                                          deg_Mg_50C  \\\n",
       "0  [0.35810000000000003, 2.9683, 0.2589, 1.4552, ...   \n",
       "1  [4.8511, 4.0426, 0.0, 0.0, 0.0, 0.0, 0.0, 0.0,...   \n",
       "2  [0.5163, 1.6823000000000001, 1.0426, 0.7902, 0...   \n",
       "3  [0.0, -0.8365, 0.0, 0.0, 0.0, 0.0, 0.0, 0.0, 0...   \n",
       "4  [2.2052, 1.7947000000000002, 0.7457, 3.1233, 0...   \n",
       "\n",
       "                                             deg_50C  \n",
       "0  [0.6382, 3.4773, 0.9988, 1.3228, 0.78770000000...  \n",
       "1  [7.6692, 0.0, 10.9561, 0.0, 0.0, 0.0, 0.0, 0.0...  \n",
       "2  [0.9501000000000001, 1.7974999999999999, 1.499...  \n",
       "3  [7.6692, -1.3223, 0.0, 0.0, 0.0, 0.0, 0.0, 0.0...  \n",
       "4  [0.0, 5.1198, -0.3551, -0.3518, 0.0, 0.0, 0.0,...  "
      ]
     },
     "execution_count": 18,
     "metadata": {},
     "output_type": "execute_result"
    }
   ],
   "source": [
    "train.head()"
   ]
  },
  {
   "cell_type": "code",
   "execution_count": 19,
   "metadata": {
    "_kg_hide-input": true,
    "execution": {
     "iopub.execute_input": "2021-02-17T15:19:26.386103Z",
     "iopub.status.busy": "2021-02-17T15:19:26.385054Z",
     "iopub.status.idle": "2021-02-17T15:19:42.578658Z",
     "shell.execute_reply": "2021-02-17T15:19:42.579158Z"
    },
    "papermill": {
     "duration": 16.258801,
     "end_time": "2021-02-17T15:19:42.579343",
     "exception": false,
     "start_time": "2021-02-17T15:19:26.320542",
     "status": "completed"
    },
    "tags": []
   },
   "outputs": [],
   "source": [
    "train_data = []\n",
    "for mol_id in train['id'].unique():\n",
    "    sample_data = train.loc[train['id'] == mol_id]\n",
    "    for i in range(68):\n",
    "        sample_tuple = (sample_data['id'].values[0], sample_data['sequence'].values[0][i],\n",
    "                        sample_data['structure'].values[0][i], sample_data['predicted_loop_type'].values[0][i],\n",
    "                        sample_data['reactivity'].values[0][i], sample_data['reactivity_error'].values[0][i],\n",
    "                        sample_data['deg_Mg_pH10'].values[0][i], sample_data['deg_error_Mg_pH10'].values[0][i],\n",
    "                        sample_data['deg_pH10'].values[0][i], sample_data['deg_error_pH10'].values[0][i],\n",
    "                        sample_data['deg_Mg_50C'].values[0][i], sample_data['deg_error_Mg_50C'].values[0][i],\n",
    "                        sample_data['deg_50C'].values[0][i], sample_data['deg_error_50C'].values[0][i])\n",
    "        train_data.append(sample_tuple)"
   ]
  },
  {
   "cell_type": "code",
   "execution_count": 20,
   "metadata": {
    "_kg_hide-input": true,
    "execution": {
     "iopub.execute_input": "2021-02-17T15:19:42.674216Z",
     "iopub.status.busy": "2021-02-17T15:19:42.673073Z",
     "iopub.status.idle": "2021-02-17T15:19:42.916231Z",
     "shell.execute_reply": "2021-02-17T15:19:42.915487Z"
    },
    "papermill": {
     "duration": 0.299196,
     "end_time": "2021-02-17T15:19:42.916424",
     "exception": false,
     "start_time": "2021-02-17T15:19:42.617228",
     "status": "completed"
    },
    "tags": []
   },
   "outputs": [
    {
     "data": {
      "text/html": [
       "<div>\n",
       "<style scoped>\n",
       "    .dataframe tbody tr th:only-of-type {\n",
       "        vertical-align: middle;\n",
       "    }\n",
       "\n",
       "    .dataframe tbody tr th {\n",
       "        vertical-align: top;\n",
       "    }\n",
       "\n",
       "    .dataframe thead th {\n",
       "        text-align: right;\n",
       "    }\n",
       "</style>\n",
       "<table border=\"1\" class=\"dataframe\">\n",
       "  <thead>\n",
       "    <tr style=\"text-align: right;\">\n",
       "      <th></th>\n",
       "      <th>id</th>\n",
       "      <th>sequence</th>\n",
       "      <th>structure</th>\n",
       "      <th>predicted_loop_type</th>\n",
       "      <th>reactivity</th>\n",
       "      <th>reactivity_error</th>\n",
       "      <th>deg_Mg_pH10</th>\n",
       "      <th>deg_error_Mg_pH10</th>\n",
       "      <th>deg_pH10</th>\n",
       "      <th>deg_error_pH10</th>\n",
       "      <th>deg_Mg_50C</th>\n",
       "      <th>deg_error_Mg_50C</th>\n",
       "      <th>deg_50C</th>\n",
       "      <th>deg_error_50C</th>\n",
       "    </tr>\n",
       "  </thead>\n",
       "  <tbody>\n",
       "    <tr>\n",
       "      <th>0</th>\n",
       "      <td>id_001f94081</td>\n",
       "      <td>G</td>\n",
       "      <td>.</td>\n",
       "      <td>E</td>\n",
       "      <td>0.3297</td>\n",
       "      <td>0.1359</td>\n",
       "      <td>0.7556</td>\n",
       "      <td>0.2613</td>\n",
       "      <td>2.3375</td>\n",
       "      <td>0.2631</td>\n",
       "      <td>0.3581</td>\n",
       "      <td>0.1501</td>\n",
       "      <td>0.6382</td>\n",
       "      <td>0.2167</td>\n",
       "    </tr>\n",
       "    <tr>\n",
       "      <th>1</th>\n",
       "      <td>id_001f94081</td>\n",
       "      <td>G</td>\n",
       "      <td>.</td>\n",
       "      <td>E</td>\n",
       "      <td>1.5693</td>\n",
       "      <td>0.2070</td>\n",
       "      <td>2.9830</td>\n",
       "      <td>0.3842</td>\n",
       "      <td>3.5060</td>\n",
       "      <td>0.2860</td>\n",
       "      <td>2.9683</td>\n",
       "      <td>0.2750</td>\n",
       "      <td>3.4773</td>\n",
       "      <td>0.3475</td>\n",
       "    </tr>\n",
       "    <tr>\n",
       "      <th>2</th>\n",
       "      <td>id_001f94081</td>\n",
       "      <td>A</td>\n",
       "      <td>.</td>\n",
       "      <td>E</td>\n",
       "      <td>1.1227</td>\n",
       "      <td>0.1633</td>\n",
       "      <td>0.2526</td>\n",
       "      <td>0.1372</td>\n",
       "      <td>0.3008</td>\n",
       "      <td>0.0964</td>\n",
       "      <td>0.2589</td>\n",
       "      <td>0.0947</td>\n",
       "      <td>0.9988</td>\n",
       "      <td>0.1880</td>\n",
       "    </tr>\n",
       "    <tr>\n",
       "      <th>3</th>\n",
       "      <td>id_001f94081</td>\n",
       "      <td>A</td>\n",
       "      <td>.</td>\n",
       "      <td>E</td>\n",
       "      <td>0.8686</td>\n",
       "      <td>0.1452</td>\n",
       "      <td>1.3789</td>\n",
       "      <td>0.2531</td>\n",
       "      <td>1.0108</td>\n",
       "      <td>0.1574</td>\n",
       "      <td>1.4552</td>\n",
       "      <td>0.1866</td>\n",
       "      <td>1.3228</td>\n",
       "      <td>0.2124</td>\n",
       "    </tr>\n",
       "    <tr>\n",
       "      <th>4</th>\n",
       "      <td>id_001f94081</td>\n",
       "      <td>A</td>\n",
       "      <td>.</td>\n",
       "      <td>E</td>\n",
       "      <td>0.7217</td>\n",
       "      <td>0.1314</td>\n",
       "      <td>0.6376</td>\n",
       "      <td>0.1798</td>\n",
       "      <td>0.2635</td>\n",
       "      <td>0.1000</td>\n",
       "      <td>0.7244</td>\n",
       "      <td>0.1369</td>\n",
       "      <td>0.7877</td>\n",
       "      <td>0.1703</td>\n",
       "    </tr>\n",
       "  </tbody>\n",
       "</table>\n",
       "</div>"
      ],
      "text/plain": [
       "             id sequence structure predicted_loop_type  reactivity  \\\n",
       "0  id_001f94081        G         .                   E      0.3297   \n",
       "1  id_001f94081        G         .                   E      1.5693   \n",
       "2  id_001f94081        A         .                   E      1.1227   \n",
       "3  id_001f94081        A         .                   E      0.8686   \n",
       "4  id_001f94081        A         .                   E      0.7217   \n",
       "\n",
       "   reactivity_error  deg_Mg_pH10  deg_error_Mg_pH10  deg_pH10  deg_error_pH10  \\\n",
       "0            0.1359       0.7556             0.2613    2.3375          0.2631   \n",
       "1            0.2070       2.9830             0.3842    3.5060          0.2860   \n",
       "2            0.1633       0.2526             0.1372    0.3008          0.0964   \n",
       "3            0.1452       1.3789             0.2531    1.0108          0.1574   \n",
       "4            0.1314       0.6376             0.1798    0.2635          0.1000   \n",
       "\n",
       "   deg_Mg_50C  deg_error_Mg_50C  deg_50C  deg_error_50C  \n",
       "0      0.3581            0.1501   0.6382         0.2167  \n",
       "1      2.9683            0.2750   3.4773         0.3475  \n",
       "2      0.2589            0.0947   0.9988         0.1880  \n",
       "3      1.4552            0.1866   1.3228         0.2124  \n",
       "4      0.7244            0.1369   0.7877         0.1703  "
      ]
     },
     "execution_count": 20,
     "metadata": {},
     "output_type": "execute_result"
    }
   ],
   "source": [
    "train_data = pd.DataFrame(train_data, columns=['id', 'sequence', 'structure', 'predicted_loop_type', 'reactivity', 'reactivity_error', 'deg_Mg_pH10', 'deg_error_Mg_pH10',\n",
    "                                  'deg_pH10', 'deg_error_pH10', 'deg_Mg_50C', 'deg_error_Mg_50C', 'deg_50C', 'deg_error_50C'])\n",
    "train_data.head()"
   ]
  },
  {
   "cell_type": "code",
   "execution_count": 21,
   "metadata": {
    "_kg_hide-input": true,
    "execution": {
     "iopub.execute_input": "2021-02-17T15:19:43.075571Z",
     "iopub.status.busy": "2021-02-17T15:19:43.074380Z",
     "iopub.status.idle": "2021-02-17T15:19:45.280330Z",
     "shell.execute_reply": "2021-02-17T15:19:45.279449Z"
    },
    "papermill": {
     "duration": 2.306827,
     "end_time": "2021-02-17T15:19:45.280511",
     "exception": false,
     "start_time": "2021-02-17T15:19:42.973684",
     "status": "completed"
    },
    "tags": []
   },
   "outputs": [
    {
     "data": {
      "image/png": "[encoded data removed]",
      "text/plain": [
       "<Figure size 1728x720 with 10 Axes>"
      ]
     },
     "metadata": {
      "needs_background": "light"
     },
     "output_type": "display_data"
    }
   ],
   "source": [
    "fig, ax = plt.subplots(figsize = (24, 10))\n",
    "for i, col in enumerate(['reactivity', 'deg_Mg_pH10', 'deg_pH10', 'deg_Mg_50C', 'deg_50C',\n",
    "       'reactivity_error', 'deg_error_Mg_pH10', 'deg_error_pH10', 'deg_error_Mg_50C', 'deg_error_50C']):\n",
    "    plt.subplot(2, 5, i + 1);\n",
    "    plt.hist(train_data[col])\n",
    "    plt.title(f'{col} histogram');\n",
    "    plt.xticks(rotation=45)"
   ]
  },
  {
   "cell_type": "code",
   "execution_count": 22,
   "metadata": {
    "_kg_hide-input": true,
    "execution": {
     "iopub.execute_input": "2021-02-17T15:19:45.401771Z",
     "iopub.status.busy": "2021-02-17T15:19:45.400936Z",
     "iopub.status.idle": "2021-02-17T15:19:45.499171Z",
     "shell.execute_reply": "2021-02-17T15:19:45.499839Z"
    },
    "papermill": {
     "duration": 0.162083,
     "end_time": "2021-02-17T15:19:45.500083",
     "exception": false,
     "start_time": "2021-02-17T15:19:45.338000",
     "status": "completed"
    },
    "tags": []
   },
   "outputs": [
    {
     "data": {
      "text/html": [
       "<div>\n",
       "<style scoped>\n",
       "    .dataframe tbody tr th:only-of-type {\n",
       "        vertical-align: middle;\n",
       "    }\n",
       "\n",
       "    .dataframe tbody tr th {\n",
       "        vertical-align: top;\n",
       "    }\n",
       "\n",
       "    .dataframe thead th {\n",
       "        text-align: right;\n",
       "    }\n",
       "</style>\n",
       "<table border=\"1\" class=\"dataframe\">\n",
       "  <thead>\n",
       "    <tr style=\"text-align: right;\">\n",
       "      <th></th>\n",
       "      <th>id</th>\n",
       "      <th>sequence</th>\n",
       "      <th>structure</th>\n",
       "      <th>predicted_loop_type</th>\n",
       "      <th>reactivity</th>\n",
       "      <th>reactivity_error</th>\n",
       "      <th>deg_Mg_pH10</th>\n",
       "      <th>deg_error_Mg_pH10</th>\n",
       "      <th>deg_pH10</th>\n",
       "      <th>deg_error_pH10</th>\n",
       "      <th>deg_Mg_50C</th>\n",
       "      <th>deg_error_Mg_50C</th>\n",
       "      <th>deg_50C</th>\n",
       "      <th>deg_error_50C</th>\n",
       "    </tr>\n",
       "  </thead>\n",
       "  <tbody>\n",
       "    <tr>\n",
       "      <th>54443</th>\n",
       "      <td>id_5429cb841</td>\n",
       "      <td>A</td>\n",
       "      <td>)</td>\n",
       "      <td>S</td>\n",
       "      <td>0.0000</td>\n",
       "      <td>0.0019</td>\n",
       "      <td>0.0331</td>\n",
       "      <td>0.0173</td>\n",
       "      <td>0.0608</td>\n",
       "      <td>0.0178</td>\n",
       "      <td>0.0072</td>\n",
       "      <td>0.0066</td>\n",
       "      <td>0.0233</td>\n",
       "      <td>0.0135</td>\n",
       "    </tr>\n",
       "    <tr>\n",
       "      <th>26991</th>\n",
       "      <td>id_2a3308237</td>\n",
       "      <td>C</td>\n",
       "      <td>)</td>\n",
       "      <td>S</td>\n",
       "      <td>0.0016</td>\n",
       "      <td>0.0022</td>\n",
       "      <td>0.0426</td>\n",
       "      <td>0.0066</td>\n",
       "      <td>0.0336</td>\n",
       "      <td>0.0097</td>\n",
       "      <td>0.0481</td>\n",
       "      <td>0.0089</td>\n",
       "      <td>0.0377</td>\n",
       "      <td>0.0115</td>\n",
       "    </tr>\n",
       "    <tr>\n",
       "      <th>54421</th>\n",
       "      <td>id_5429cb841</td>\n",
       "      <td>U</td>\n",
       "      <td>(</td>\n",
       "      <td>S</td>\n",
       "      <td>-0.0009</td>\n",
       "      <td>0.0029</td>\n",
       "      <td>0.0250</td>\n",
       "      <td>0.0234</td>\n",
       "      <td>0.0056</td>\n",
       "      <td>0.0101</td>\n",
       "      <td>0.0019</td>\n",
       "      <td>0.0065</td>\n",
       "      <td>0.0071</td>\n",
       "      <td>0.0113</td>\n",
       "    </tr>\n",
       "    <tr>\n",
       "      <th>26993</th>\n",
       "      <td>id_2a3308237</td>\n",
       "      <td>A</td>\n",
       "      <td>)</td>\n",
       "      <td>S</td>\n",
       "      <td>0.0024</td>\n",
       "      <td>0.0031</td>\n",
       "      <td>0.0950</td>\n",
       "      <td>0.0094</td>\n",
       "      <td>0.0641</td>\n",
       "      <td>0.0131</td>\n",
       "      <td>0.0761</td>\n",
       "      <td>0.0110</td>\n",
       "      <td>0.0547</td>\n",
       "      <td>0.0138</td>\n",
       "    </tr>\n",
       "    <tr>\n",
       "      <th>85089</th>\n",
       "      <td>id_8622860d7</td>\n",
       "      <td>U</td>\n",
       "      <td>(</td>\n",
       "      <td>S</td>\n",
       "      <td>0.0000</td>\n",
       "      <td>0.0031</td>\n",
       "      <td>0.0102</td>\n",
       "      <td>0.0204</td>\n",
       "      <td>0.0051</td>\n",
       "      <td>0.0105</td>\n",
       "      <td>0.0115</td>\n",
       "      <td>0.0106</td>\n",
       "      <td>0.0057</td>\n",
       "      <td>0.0117</td>\n",
       "    </tr>\n",
       "    <tr>\n",
       "      <th>...</th>\n",
       "      <td>...</td>\n",
       "      <td>...</td>\n",
       "      <td>...</td>\n",
       "      <td>...</td>\n",
       "      <td>...</td>\n",
       "      <td>...</td>\n",
       "      <td>...</td>\n",
       "      <td>...</td>\n",
       "      <td>...</td>\n",
       "      <td>...</td>\n",
       "      <td>...</td>\n",
       "      <td>...</td>\n",
       "      <td>...</td>\n",
       "      <td>...</td>\n",
       "    </tr>\n",
       "    <tr>\n",
       "      <th>101750</th>\n",
       "      <td>id_a1719ebbc</td>\n",
       "      <td>G</td>\n",
       "      <td>(</td>\n",
       "      <td>S</td>\n",
       "      <td>0.0000</td>\n",
       "      <td>146151.2250</td>\n",
       "      <td>0.0000</td>\n",
       "      <td>104235.1742</td>\n",
       "      <td>0.0000</td>\n",
       "      <td>314833.5695</td>\n",
       "      <td>0.0000</td>\n",
       "      <td>171525.3217</td>\n",
       "      <td>0.0000</td>\n",
       "      <td>271158.6040</td>\n",
       "    </tr>\n",
       "    <tr>\n",
       "      <th>101751</th>\n",
       "      <td>id_a1719ebbc</td>\n",
       "      <td>C</td>\n",
       "      <td>(</td>\n",
       "      <td>S</td>\n",
       "      <td>0.0000</td>\n",
       "      <td>146151.2250</td>\n",
       "      <td>0.0000</td>\n",
       "      <td>104235.1742</td>\n",
       "      <td>0.0000</td>\n",
       "      <td>314833.5695</td>\n",
       "      <td>0.0000</td>\n",
       "      <td>171525.3217</td>\n",
       "      <td>0.0000</td>\n",
       "      <td>271158.6040</td>\n",
       "    </tr>\n",
       "    <tr>\n",
       "      <th>101752</th>\n",
       "      <td>id_a1719ebbc</td>\n",
       "      <td>G</td>\n",
       "      <td>(</td>\n",
       "      <td>S</td>\n",
       "      <td>0.0000</td>\n",
       "      <td>146151.2250</td>\n",
       "      <td>0.0000</td>\n",
       "      <td>104235.1742</td>\n",
       "      <td>0.0000</td>\n",
       "      <td>314833.5695</td>\n",
       "      <td>0.0000</td>\n",
       "      <td>171525.3217</td>\n",
       "      <td>0.0000</td>\n",
       "      <td>271158.6040</td>\n",
       "    </tr>\n",
       "    <tr>\n",
       "      <th>101754</th>\n",
       "      <td>id_a1719ebbc</td>\n",
       "      <td>G</td>\n",
       "      <td>(</td>\n",
       "      <td>S</td>\n",
       "      <td>0.0000</td>\n",
       "      <td>146151.2250</td>\n",
       "      <td>0.0000</td>\n",
       "      <td>104235.1742</td>\n",
       "      <td>0.0000</td>\n",
       "      <td>314833.5695</td>\n",
       "      <td>0.0000</td>\n",
       "      <td>171525.3217</td>\n",
       "      <td>0.0000</td>\n",
       "      <td>271158.6040</td>\n",
       "    </tr>\n",
       "    <tr>\n",
       "      <th>24034</th>\n",
       "      <td>id_251bb7979</td>\n",
       "      <td>G</td>\n",
       "      <td>.</td>\n",
       "      <td>I</td>\n",
       "      <td>0.0000</td>\n",
       "      <td>146151.2250</td>\n",
       "      <td>0.0000</td>\n",
       "      <td>104235.1742</td>\n",
       "      <td>0.0000</td>\n",
       "      <td>314833.5695</td>\n",
       "      <td>0.0000</td>\n",
       "      <td>171525.3217</td>\n",
       "      <td>0.0000</td>\n",
       "      <td>271158.6040</td>\n",
       "    </tr>\n",
       "  </tbody>\n",
       "</table>\n",
       "<p>163200 rows × 14 columns</p>\n",
       "</div>"
      ],
      "text/plain": [
       "                  id sequence structure predicted_loop_type  reactivity  \\\n",
       "54443   id_5429cb841        A         )                   S      0.0000   \n",
       "26991   id_2a3308237        C         )                   S      0.0016   \n",
       "54421   id_5429cb841        U         (                   S     -0.0009   \n",
       "26993   id_2a3308237        A         )                   S      0.0024   \n",
       "85089   id_8622860d7        U         (                   S      0.0000   \n",
       "...              ...      ...       ...                 ...         ...   \n",
       "101750  id_a1719ebbc        G         (                   S      0.0000   \n",
       "101751  id_a1719ebbc        C         (                   S      0.0000   \n",
       "101752  id_a1719ebbc        G         (                   S      0.0000   \n",
       "101754  id_a1719ebbc        G         (                   S      0.0000   \n",
       "24034   id_251bb7979        G         .                   I      0.0000   \n",
       "\n",
       "        reactivity_error  deg_Mg_pH10  deg_error_Mg_pH10  deg_pH10  \\\n",
       "54443             0.0019       0.0331             0.0173    0.0608   \n",
       "26991             0.0022       0.0426             0.0066    0.0336   \n",
       "54421             0.0029       0.0250             0.0234    0.0056   \n",
       "26993             0.0031       0.0950             0.0094    0.0641   \n",
       "85089             0.0031       0.0102             0.0204    0.0051   \n",
       "...                  ...          ...                ...       ...   \n",
       "101750       146151.2250       0.0000        104235.1742    0.0000   \n",
       "101751       146151.2250       0.0000        104235.1742    0.0000   \n",
       "101752       146151.2250       0.0000        104235.1742    0.0000   \n",
       "101754       146151.2250       0.0000        104235.1742    0.0000   \n",
       "24034        146151.2250       0.0000        104235.1742    0.0000   \n",
       "\n",
       "        deg_error_pH10  deg_Mg_50C  deg_error_Mg_50C  deg_50C  deg_error_50C  \n",
       "54443           0.0178      0.0072            0.0066   0.0233         0.0135  \n",
       "26991           0.0097      0.0481            0.0089   0.0377         0.0115  \n",
       "54421           0.0101      0.0019            0.0065   0.0071         0.0113  \n",
       "26993           0.0131      0.0761            0.0110   0.0547         0.0138  \n",
       "85089           0.0105      0.0115            0.0106   0.0057         0.0117  \n",
       "...                ...         ...               ...      ...            ...  \n",
       "101750     314833.5695      0.0000       171525.3217   0.0000    271158.6040  \n",
       "101751     314833.5695      0.0000       171525.3217   0.0000    271158.6040  \n",
       "101752     314833.5695      0.0000       171525.3217   0.0000    271158.6040  \n",
       "101754     314833.5695      0.0000       171525.3217   0.0000    271158.6040  \n",
       "24034      314833.5695      0.0000       171525.3217   0.0000    271158.6040  \n",
       "\n",
       "[163200 rows x 14 columns]"
      ]
     },
     "execution_count": 22,
     "metadata": {},
     "output_type": "execute_result"
    }
   ],
   "source": [
    "train_data.sort_values('reactivity_error')"
   ]
  },
  {
   "cell_type": "code",
   "execution_count": 23,
   "metadata": {
    "_kg_hide-input": true,
    "execution": {
     "iopub.execute_input": "2021-02-17T15:19:45.646991Z",
     "iopub.status.busy": "2021-02-17T15:19:45.646133Z",
     "iopub.status.idle": "2021-02-17T15:19:45.671688Z",
     "shell.execute_reply": "2021-02-17T15:19:45.672433Z"
    },
    "papermill": {
     "duration": 0.11408,
     "end_time": "2021-02-17T15:19:45.672654",
     "exception": false,
     "start_time": "2021-02-17T15:19:45.558574",
     "status": "completed"
    },
    "tags": []
   },
   "outputs": [
    {
     "data": {
      "text/html": [
       "<div>\n",
       "<style scoped>\n",
       "    .dataframe tbody tr th:only-of-type {\n",
       "        vertical-align: middle;\n",
       "    }\n",
       "\n",
       "    .dataframe tbody tr th {\n",
       "        vertical-align: top;\n",
       "    }\n",
       "\n",
       "    .dataframe thead th {\n",
       "        text-align: right;\n",
       "    }\n",
       "</style>\n",
       "<table border=\"1\" class=\"dataframe\">\n",
       "  <thead>\n",
       "    <tr style=\"text-align: right;\">\n",
       "      <th></th>\n",
       "      <th>index</th>\n",
       "      <th>id</th>\n",
       "      <th>sequence</th>\n",
       "      <th>structure</th>\n",
       "      <th>predicted_loop_type</th>\n",
       "      <th>signal_to_noise</th>\n",
       "      <th>SN_filter</th>\n",
       "      <th>seq_length</th>\n",
       "      <th>seq_scored</th>\n",
       "      <th>reactivity_error</th>\n",
       "      <th>deg_error_Mg_pH10</th>\n",
       "      <th>deg_error_pH10</th>\n",
       "      <th>deg_error_Mg_50C</th>\n",
       "      <th>deg_error_50C</th>\n",
       "      <th>reactivity</th>\n",
       "      <th>deg_Mg_pH10</th>\n",
       "      <th>deg_pH10</th>\n",
       "      <th>deg_Mg_50C</th>\n",
       "      <th>deg_50C</th>\n",
       "    </tr>\n",
       "  </thead>\n",
       "  <tbody>\n",
       "    <tr>\n",
       "      <th>1496</th>\n",
       "      <td>1496</td>\n",
       "      <td>id_a1719ebbc</td>\n",
       "      <td>GGAAACGCGCGCGCGCGCGCGCGCGCGCGCGCGCGCGCCGCGCGCG...</td>\n",
       "      <td>.....((((((((((((((((((((((((((((((...))))))))...</td>\n",
       "      <td>EEEEESSSSSSSSSSSSSSSSSSSSSSSSSSSSSSHHHSSSSSSSS...</td>\n",
       "      <td>0.0</td>\n",
       "      <td>0</td>\n",
       "      <td>107</td>\n",
       "      <td>68</td>\n",
       "      <td>[146151.225, 146151.225, 146151.225, 146151.22...</td>\n",
       "      <td>[104235.1742, 104235.1742, 104235.1742, 104235...</td>\n",
       "      <td>[314833.5695, 314833.5695, 314833.5695, 314833...</td>\n",
       "      <td>[171525.3217, 171525.3217, 171525.3217, 171525...</td>\n",
       "      <td>[271158.604, 271158.604, 271158.604, 271158.60...</td>\n",
       "      <td>[0.0, 0.0, 0.0, 0.0, 0.0, 0.0, 0.0, 0.0, 0.0, ...</td>\n",
       "      <td>[0.0, 0.0, 0.0, 0.0, 0.0, 0.0, 0.0, 0.0, 0.0, ...</td>\n",
       "      <td>[0.0, 0.0, 0.0, 0.0, 0.0, 0.0, 0.0, 0.0, 0.0, ...</td>\n",
       "      <td>[0.0, 0.0, 0.0, 0.0, 0.0, 0.0, 0.0, 0.0, 0.0, ...</td>\n",
       "      <td>[0.0, 0.0, 0.0, 0.0, 0.0, 0.0, 0.0, 0.0, 0.0, ...</td>\n",
       "    </tr>\n",
       "  </tbody>\n",
       "</table>\n",
       "</div>"
      ],
      "text/plain": [
       "      index            id                                           sequence  \\\n",
       "1496   1496  id_a1719ebbc  GGAAACGCGCGCGCGCGCGCGCGCGCGCGCGCGCGCGCCGCGCGCG...   \n",
       "\n",
       "                                              structure  \\\n",
       "1496  .....((((((((((((((((((((((((((((((...))))))))...   \n",
       "\n",
       "                                    predicted_loop_type  signal_to_noise  \\\n",
       "1496  EEEEESSSSSSSSSSSSSSSSSSSSSSSSSSSSSSHHHSSSSSSSS...              0.0   \n",
       "\n",
       "      SN_filter  seq_length  seq_scored  \\\n",
       "1496          0         107          68   \n",
       "\n",
       "                                       reactivity_error  \\\n",
       "1496  [146151.225, 146151.225, 146151.225, 146151.22...   \n",
       "\n",
       "                                      deg_error_Mg_pH10  \\\n",
       "1496  [104235.1742, 104235.1742, 104235.1742, 104235...   \n",
       "\n",
       "                                         deg_error_pH10  \\\n",
       "1496  [314833.5695, 314833.5695, 314833.5695, 314833...   \n",
       "\n",
       "                                       deg_error_Mg_50C  \\\n",
       "1496  [171525.3217, 171525.3217, 171525.3217, 171525...   \n",
       "\n",
       "                                          deg_error_50C  \\\n",
       "1496  [271158.604, 271158.604, 271158.604, 271158.60...   \n",
       "\n",
       "                                             reactivity  \\\n",
       "1496  [0.0, 0.0, 0.0, 0.0, 0.0, 0.0, 0.0, 0.0, 0.0, ...   \n",
       "\n",
       "                                            deg_Mg_pH10  \\\n",
       "1496  [0.0, 0.0, 0.0, 0.0, 0.0, 0.0, 0.0, 0.0, 0.0, ...   \n",
       "\n",
       "                                               deg_pH10  \\\n",
       "1496  [0.0, 0.0, 0.0, 0.0, 0.0, 0.0, 0.0, 0.0, 0.0, ...   \n",
       "\n",
       "                                             deg_Mg_50C  \\\n",
       "1496  [0.0, 0.0, 0.0, 0.0, 0.0, 0.0, 0.0, 0.0, 0.0, ...   \n",
       "\n",
       "                                                deg_50C  \n",
       "1496  [0.0, 0.0, 0.0, 0.0, 0.0, 0.0, 0.0, 0.0, 0.0, ...  "
      ]
     },
     "execution_count": 23,
     "metadata": {},
     "output_type": "execute_result"
    }
   ],
   "source": [
    "train.loc[train['id'] == 'id_a1719ebbc']"
   ]
  },
  {
   "cell_type": "code",
   "execution_count": 24,
   "metadata": {
    "_kg_hide-input": true,
    "execution": {
     "iopub.execute_input": "2021-02-17T15:19:45.798744Z",
     "iopub.status.busy": "2021-02-17T15:19:45.797179Z",
     "iopub.status.idle": "2021-02-17T15:20:02.844318Z",
     "shell.execute_reply": "2021-02-17T15:20:02.845034Z"
    },
    "papermill": {
     "duration": 17.112223,
     "end_time": "2021-02-17T15:20:02.845278",
     "exception": false,
     "start_time": "2021-02-17T15:19:45.733055",
     "status": "completed"
    },
    "tags": []
   },
   "outputs": [],
   "source": [
    "test_data = []\n",
    "for mol_id in test['id'].unique():\n",
    "    sample_data = test.loc[test['id'] == mol_id]\n",
    "    for i in range(sample_data['seq_scored'].values[0]):\n",
    "        sample_tuple = (sample_data['id'].values[0] + f'_{i}', sample_data['sequence'].values[0][i],\n",
    "                        sample_data['structure'].values[0][i], sample_data['predicted_loop_type'].values[0][i])\n",
    "        test_data.append(sample_tuple)"
   ]
  },
  {
   "cell_type": "code",
   "execution_count": 25,
   "metadata": {
    "_kg_hide-input": true,
    "execution": {
     "iopub.execute_input": "2021-02-17T15:20:02.972381Z",
     "iopub.status.busy": "2021-02-17T15:20:02.971531Z",
     "iopub.status.idle": "2021-02-17T15:20:03.183354Z",
     "shell.execute_reply": "2021-02-17T15:20:03.184121Z"
    },
    "papermill": {
     "duration": 0.27744,
     "end_time": "2021-02-17T15:20:03.184342",
     "exception": false,
     "start_time": "2021-02-17T15:20:02.906902",
     "status": "completed"
    },
    "tags": []
   },
   "outputs": [
    {
     "data": {
      "text/html": [
       "<div>\n",
       "<style scoped>\n",
       "    .dataframe tbody tr th:only-of-type {\n",
       "        vertical-align: middle;\n",
       "    }\n",
       "\n",
       "    .dataframe tbody tr th {\n",
       "        vertical-align: top;\n",
       "    }\n",
       "\n",
       "    .dataframe thead th {\n",
       "        text-align: right;\n",
       "    }\n",
       "</style>\n",
       "<table border=\"1\" class=\"dataframe\">\n",
       "  <thead>\n",
       "    <tr style=\"text-align: right;\">\n",
       "      <th></th>\n",
       "      <th>id</th>\n",
       "      <th>sequence</th>\n",
       "      <th>structure</th>\n",
       "      <th>predicted_loop_type</th>\n",
       "    </tr>\n",
       "  </thead>\n",
       "  <tbody>\n",
       "    <tr>\n",
       "      <th>0</th>\n",
       "      <td>id_00073f8be_0</td>\n",
       "      <td>G</td>\n",
       "      <td>.</td>\n",
       "      <td>E</td>\n",
       "    </tr>\n",
       "    <tr>\n",
       "      <th>1</th>\n",
       "      <td>id_00073f8be_1</td>\n",
       "      <td>G</td>\n",
       "      <td>.</td>\n",
       "      <td>E</td>\n",
       "    </tr>\n",
       "    <tr>\n",
       "      <th>2</th>\n",
       "      <td>id_00073f8be_2</td>\n",
       "      <td>A</td>\n",
       "      <td>.</td>\n",
       "      <td>E</td>\n",
       "    </tr>\n",
       "    <tr>\n",
       "      <th>3</th>\n",
       "      <td>id_00073f8be_3</td>\n",
       "      <td>A</td>\n",
       "      <td>.</td>\n",
       "      <td>E</td>\n",
       "    </tr>\n",
       "    <tr>\n",
       "      <th>4</th>\n",
       "      <td>id_00073f8be_4</td>\n",
       "      <td>A</td>\n",
       "      <td>.</td>\n",
       "      <td>E</td>\n",
       "    </tr>\n",
       "  </tbody>\n",
       "</table>\n",
       "</div>"
      ],
      "text/plain": [
       "               id sequence structure predicted_loop_type\n",
       "0  id_00073f8be_0        G         .                   E\n",
       "1  id_00073f8be_1        G         .                   E\n",
       "2  id_00073f8be_2        A         .                   E\n",
       "3  id_00073f8be_3        A         .                   E\n",
       "4  id_00073f8be_4        A         .                   E"
      ]
     },
     "execution_count": 25,
     "metadata": {},
     "output_type": "execute_result"
    }
   ],
   "source": [
    "test_data = pd.DataFrame(test_data, columns=['id', 'sequence', 'structure', 'predicted_loop_type'])\n",
    "test_data.head()"
   ]
  },
  {
   "cell_type": "markdown",
   "metadata": {
    "papermill": {
     "duration": 0.063832,
     "end_time": "2021-02-17T15:20:03.309271",
     "exception": false,
     "start_time": "2021-02-17T15:20:03.245439",
     "status": "completed"
    },
    "tags": []
   },
   "source": [
    "\n",
    "\n",
    "nilai rata-rata dengan kolom kategorikal"
   ]
  },
  {
   "cell_type": "code",
   "execution_count": 26,
   "metadata": {
    "_kg_hide-input": true,
    "execution": {
     "iopub.execute_input": "2021-02-17T15:20:03.439661Z",
     "iopub.status.busy": "2021-02-17T15:20:03.438861Z",
     "iopub.status.idle": "2021-02-17T15:20:03.546767Z",
     "shell.execute_reply": "2021-02-17T15:20:03.545973Z"
    },
    "papermill": {
     "duration": 0.175086,
     "end_time": "2021-02-17T15:20:03.546982",
     "exception": false,
     "start_time": "2021-02-17T15:20:03.371896",
     "status": "completed"
    },
    "tags": []
   },
   "outputs": [
    {
     "data": {
      "text/html": [
       "<div>\n",
       "<style scoped>\n",
       "    .dataframe tbody tr th:only-of-type {\n",
       "        vertical-align: middle;\n",
       "    }\n",
       "\n",
       "    .dataframe tbody tr th {\n",
       "        vertical-align: top;\n",
       "    }\n",
       "\n",
       "    .dataframe thead th {\n",
       "        text-align: right;\n",
       "    }\n",
       "</style>\n",
       "<table border=\"1\" class=\"dataframe\">\n",
       "  <thead>\n",
       "    <tr style=\"text-align: right;\">\n",
       "      <th></th>\n",
       "      <th>sequence</th>\n",
       "      <th>structure</th>\n",
       "      <th>predicted_loop_type</th>\n",
       "      <th>reactivity</th>\n",
       "    </tr>\n",
       "  </thead>\n",
       "  <tbody>\n",
       "    <tr>\n",
       "      <th>0</th>\n",
       "      <td>A</td>\n",
       "      <td>(</td>\n",
       "      <td>S</td>\n",
       "      <td>0.242580</td>\n",
       "    </tr>\n",
       "    <tr>\n",
       "      <th>1</th>\n",
       "      <td>A</td>\n",
       "      <td>)</td>\n",
       "      <td>S</td>\n",
       "      <td>0.209482</td>\n",
       "    </tr>\n",
       "    <tr>\n",
       "      <th>2</th>\n",
       "      <td>A</td>\n",
       "      <td>.</td>\n",
       "      <td>B</td>\n",
       "      <td>0.675737</td>\n",
       "    </tr>\n",
       "    <tr>\n",
       "      <th>3</th>\n",
       "      <td>A</td>\n",
       "      <td>.</td>\n",
       "      <td>E</td>\n",
       "      <td>0.567550</td>\n",
       "    </tr>\n",
       "    <tr>\n",
       "      <th>4</th>\n",
       "      <td>A</td>\n",
       "      <td>.</td>\n",
       "      <td>H</td>\n",
       "      <td>0.743339</td>\n",
       "    </tr>\n",
       "  </tbody>\n",
       "</table>\n",
       "</div>"
      ],
      "text/plain": [
       "  sequence structure predicted_loop_type  reactivity\n",
       "0        A         (                   S    0.242580\n",
       "1        A         )                   S    0.209482\n",
       "2        A         .                   B    0.675737\n",
       "3        A         .                   E    0.567550\n",
       "4        A         .                   H    0.743339"
      ]
     },
     "execution_count": 26,
     "metadata": {},
     "output_type": "execute_result"
    }
   ],
   "source": [
    "train_data.groupby(['sequence', 'structure', 'predicted_loop_type'])['reactivity'].mean().reset_index().head()"
   ]
  },
  {
   "cell_type": "code",
   "execution_count": 27,
   "metadata": {
    "_kg_hide-input": true,
    "execution": {
     "iopub.execute_input": "2021-02-17T15:20:03.704456Z",
     "iopub.status.busy": "2021-02-17T15:20:03.683128Z",
     "iopub.status.idle": "2021-02-17T15:20:05.085454Z",
     "shell.execute_reply": "2021-02-17T15:20:05.084646Z"
    },
    "papermill": {
     "duration": 1.476106,
     "end_time": "2021-02-17T15:20:05.085635",
     "exception": false,
     "start_time": "2021-02-17T15:20:03.609529",
     "status": "completed"
    },
    "tags": []
   },
   "outputs": [],
   "source": [
    "test_data = pd.merge(test_data, train_data.groupby(['sequence', 'structure', 'predicted_loop_type'])['reactivity'].mean().reset_index(),\n",
    "                     on=['sequence', 'structure', 'predicted_loop_type'])\n",
    "test_data = pd.merge(test_data, train_data.groupby(['sequence', 'structure', 'predicted_loop_type'])['deg_Mg_pH10'].mean().reset_index(),\n",
    "                     on=['sequence', 'structure', 'predicted_loop_type'])\n",
    "test_data = pd.merge(test_data, train_data.groupby(['sequence', 'structure', 'predicted_loop_type'])['deg_pH10'].mean().reset_index(),\n",
    "                     on=['sequence', 'structure', 'predicted_loop_type'])\n",
    "test_data = pd.merge(test_data, train_data.groupby(['sequence', 'structure', 'predicted_loop_type'])['deg_Mg_50C'].mean().reset_index(),\n",
    "                     on=['sequence', 'structure', 'predicted_loop_type'])\n",
    "test_data = pd.merge(test_data, train_data.groupby(['sequence', 'structure', 'predicted_loop_type'])['deg_50C'].mean().reset_index(),\n",
    "                     on=['sequence', 'structure', 'predicted_loop_type'])"
   ]
  },
  {
   "cell_type": "code",
   "execution_count": 28,
   "metadata": {
    "_kg_hide-input": true,
    "execution": {
     "iopub.execute_input": "2021-02-17T15:20:05.228277Z",
     "iopub.status.busy": "2021-02-17T15:20:05.227121Z",
     "iopub.status.idle": "2021-02-17T15:20:05.245533Z",
     "shell.execute_reply": "2021-02-17T15:20:05.244730Z"
    },
    "papermill": {
     "duration": 0.094862,
     "end_time": "2021-02-17T15:20:05.245718",
     "exception": false,
     "start_time": "2021-02-17T15:20:05.150856",
     "status": "completed"
    },
    "tags": []
   },
   "outputs": [
    {
     "data": {
      "text/html": [
       "<div>\n",
       "<style scoped>\n",
       "    .dataframe tbody tr th:only-of-type {\n",
       "        vertical-align: middle;\n",
       "    }\n",
       "\n",
       "    .dataframe tbody tr th {\n",
       "        vertical-align: top;\n",
       "    }\n",
       "\n",
       "    .dataframe thead th {\n",
       "        text-align: right;\n",
       "    }\n",
       "</style>\n",
       "<table border=\"1\" class=\"dataframe\">\n",
       "  <thead>\n",
       "    <tr style=\"text-align: right;\">\n",
       "      <th></th>\n",
       "      <th>id</th>\n",
       "      <th>sequence</th>\n",
       "      <th>structure</th>\n",
       "      <th>predicted_loop_type</th>\n",
       "      <th>reactivity</th>\n",
       "      <th>deg_Mg_pH10</th>\n",
       "      <th>deg_pH10</th>\n",
       "      <th>deg_Mg_50C</th>\n",
       "      <th>deg_50C</th>\n",
       "    </tr>\n",
       "  </thead>\n",
       "  <tbody>\n",
       "    <tr>\n",
       "      <th>0</th>\n",
       "      <td>id_00073f8be_0</td>\n",
       "      <td>G</td>\n",
       "      <td>.</td>\n",
       "      <td>E</td>\n",
       "      <td>0.825539</td>\n",
       "      <td>1.04461</td>\n",
       "      <td>1.747477</td>\n",
       "      <td>0.980793</td>\n",
       "      <td>0.971702</td>\n",
       "    </tr>\n",
       "    <tr>\n",
       "      <th>1</th>\n",
       "      <td>id_00073f8be_1</td>\n",
       "      <td>G</td>\n",
       "      <td>.</td>\n",
       "      <td>E</td>\n",
       "      <td>0.825539</td>\n",
       "      <td>1.04461</td>\n",
       "      <td>1.747477</td>\n",
       "      <td>0.980793</td>\n",
       "      <td>0.971702</td>\n",
       "    </tr>\n",
       "    <tr>\n",
       "      <th>2</th>\n",
       "      <td>id_000ae4237_0</td>\n",
       "      <td>G</td>\n",
       "      <td>.</td>\n",
       "      <td>E</td>\n",
       "      <td>0.825539</td>\n",
       "      <td>1.04461</td>\n",
       "      <td>1.747477</td>\n",
       "      <td>0.980793</td>\n",
       "      <td>0.971702</td>\n",
       "    </tr>\n",
       "    <tr>\n",
       "      <th>3</th>\n",
       "      <td>id_000ae4237_1</td>\n",
       "      <td>G</td>\n",
       "      <td>.</td>\n",
       "      <td>E</td>\n",
       "      <td>0.825539</td>\n",
       "      <td>1.04461</td>\n",
       "      <td>1.747477</td>\n",
       "      <td>0.980793</td>\n",
       "      <td>0.971702</td>\n",
       "    </tr>\n",
       "    <tr>\n",
       "      <th>4</th>\n",
       "      <td>id_00131c573_0</td>\n",
       "      <td>G</td>\n",
       "      <td>.</td>\n",
       "      <td>E</td>\n",
       "      <td>0.825539</td>\n",
       "      <td>1.04461</td>\n",
       "      <td>1.747477</td>\n",
       "      <td>0.980793</td>\n",
       "      <td>0.971702</td>\n",
       "    </tr>\n",
       "  </tbody>\n",
       "</table>\n",
       "</div>"
      ],
      "text/plain": [
       "               id sequence structure predicted_loop_type  reactivity  \\\n",
       "0  id_00073f8be_0        G         .                   E    0.825539   \n",
       "1  id_00073f8be_1        G         .                   E    0.825539   \n",
       "2  id_000ae4237_0        G         .                   E    0.825539   \n",
       "3  id_000ae4237_1        G         .                   E    0.825539   \n",
       "4  id_00131c573_0        G         .                   E    0.825539   \n",
       "\n",
       "   deg_Mg_pH10  deg_pH10  deg_Mg_50C   deg_50C  \n",
       "0      1.04461  1.747477    0.980793  0.971702  \n",
       "1      1.04461  1.747477    0.980793  0.971702  \n",
       "2      1.04461  1.747477    0.980793  0.971702  \n",
       "3      1.04461  1.747477    0.980793  0.971702  \n",
       "4      1.04461  1.747477    0.980793  0.971702  "
      ]
     },
     "execution_count": 28,
     "metadata": {},
     "output_type": "execute_result"
    }
   ],
   "source": [
    "test_data.head()"
   ]
  },
  {
   "cell_type": "code",
   "execution_count": 29,
   "metadata": {
    "_kg_hide-input": true,
    "execution": {
     "iopub.execute_input": "2021-02-17T15:20:05.387352Z",
     "iopub.status.busy": "2021-02-17T15:20:05.386201Z",
     "iopub.status.idle": "2021-02-17T15:20:05.392574Z",
     "shell.execute_reply": "2021-02-17T15:20:05.393282Z"
    },
    "papermill": {
     "duration": 0.084485,
     "end_time": "2021-02-17T15:20:05.393507",
     "exception": false,
     "start_time": "2021-02-17T15:20:05.309022",
     "status": "completed"
    },
    "tags": []
   },
   "outputs": [
    {
     "data": {
      "text/html": [
       "<div>\n",
       "<style scoped>\n",
       "    .dataframe tbody tr th:only-of-type {\n",
       "        vertical-align: middle;\n",
       "    }\n",
       "\n",
       "    .dataframe tbody tr th {\n",
       "        vertical-align: top;\n",
       "    }\n",
       "\n",
       "    .dataframe thead th {\n",
       "        text-align: right;\n",
       "    }\n",
       "</style>\n",
       "<table border=\"1\" class=\"dataframe\">\n",
       "  <thead>\n",
       "    <tr style=\"text-align: right;\">\n",
       "      <th></th>\n",
       "      <th>id_seqpos</th>\n",
       "      <th>reactivity</th>\n",
       "      <th>deg_Mg_pH10</th>\n",
       "      <th>deg_pH10</th>\n",
       "      <th>deg_Mg_50C</th>\n",
       "      <th>deg_50C</th>\n",
       "    </tr>\n",
       "  </thead>\n",
       "  <tbody>\n",
       "    <tr>\n",
       "      <th>0</th>\n",
       "      <td>id_00073f8be_0</td>\n",
       "      <td>0.0</td>\n",
       "      <td>0.0</td>\n",
       "      <td>0.0</td>\n",
       "      <td>0.0</td>\n",
       "      <td>0.0</td>\n",
       "    </tr>\n",
       "    <tr>\n",
       "      <th>1</th>\n",
       "      <td>id_00073f8be_1</td>\n",
       "      <td>0.0</td>\n",
       "      <td>0.0</td>\n",
       "      <td>0.0</td>\n",
       "      <td>0.0</td>\n",
       "      <td>0.0</td>\n",
       "    </tr>\n",
       "    <tr>\n",
       "      <th>2</th>\n",
       "      <td>id_00073f8be_2</td>\n",
       "      <td>0.0</td>\n",
       "      <td>0.0</td>\n",
       "      <td>0.0</td>\n",
       "      <td>0.0</td>\n",
       "      <td>0.0</td>\n",
       "    </tr>\n",
       "    <tr>\n",
       "      <th>3</th>\n",
       "      <td>id_00073f8be_3</td>\n",
       "      <td>0.0</td>\n",
       "      <td>0.0</td>\n",
       "      <td>0.0</td>\n",
       "      <td>0.0</td>\n",
       "      <td>0.0</td>\n",
       "    </tr>\n",
       "    <tr>\n",
       "      <th>4</th>\n",
       "      <td>id_00073f8be_4</td>\n",
       "      <td>0.0</td>\n",
       "      <td>0.0</td>\n",
       "      <td>0.0</td>\n",
       "      <td>0.0</td>\n",
       "      <td>0.0</td>\n",
       "    </tr>\n",
       "  </tbody>\n",
       "</table>\n",
       "</div>"
      ],
      "text/plain": [
       "        id_seqpos  reactivity  deg_Mg_pH10  deg_pH10  deg_Mg_50C  deg_50C\n",
       "0  id_00073f8be_0         0.0          0.0       0.0         0.0      0.0\n",
       "1  id_00073f8be_1         0.0          0.0       0.0         0.0      0.0\n",
       "2  id_00073f8be_2         0.0          0.0       0.0         0.0      0.0\n",
       "3  id_00073f8be_3         0.0          0.0       0.0         0.0      0.0\n",
       "4  id_00073f8be_4         0.0          0.0       0.0         0.0      0.0"
      ]
     },
     "execution_count": 29,
     "metadata": {},
     "output_type": "execute_result"
    }
   ],
   "source": [
    "sub.head()"
   ]
  },
  {
   "cell_type": "code",
   "execution_count": 30,
   "metadata": {
    "_kg_hide-input": true,
    "execution": {
     "iopub.execute_input": "2021-02-17T15:20:05.526562Z",
     "iopub.status.busy": "2021-02-17T15:20:05.525910Z",
     "iopub.status.idle": "2021-02-17T15:20:05.532766Z",
     "shell.execute_reply": "2021-02-17T15:20:05.532104Z"
    },
    "papermill": {
     "duration": 0.076173,
     "end_time": "2021-02-17T15:20:05.532937",
     "exception": false,
     "start_time": "2021-02-17T15:20:05.456764",
     "status": "completed"
    },
    "tags": []
   },
   "outputs": [
    {
     "data": {
      "text/plain": [
       "((457953, 6), (316227, 9))"
      ]
     },
     "execution_count": 30,
     "metadata": {},
     "output_type": "execute_result"
    }
   ],
   "source": [
    "sub.shape, test_data.shape"
   ]
  },
  {
   "cell_type": "code",
   "execution_count": 31,
   "metadata": {
    "_kg_hide-input": true,
    "execution": {
     "iopub.execute_input": "2021-02-17T15:20:06.025896Z",
     "iopub.status.busy": "2021-02-17T15:20:05.625150Z",
     "iopub.status.idle": "2021-02-17T15:20:06.626241Z",
     "shell.execute_reply": "2021-02-17T15:20:06.626770Z"
    },
    "papermill": {
     "duration": 1.05196,
     "end_time": "2021-02-17T15:20:06.626992",
     "exception": false,
     "start_time": "2021-02-17T15:20:05.575032",
     "status": "completed"
    },
    "tags": []
   },
   "outputs": [
    {
     "data": {
      "text/html": [
       "<div>\n",
       "<style scoped>\n",
       "    .dataframe tbody tr th:only-of-type {\n",
       "        vertical-align: middle;\n",
       "    }\n",
       "\n",
       "    .dataframe tbody tr th {\n",
       "        vertical-align: top;\n",
       "    }\n",
       "\n",
       "    .dataframe thead th {\n",
       "        text-align: right;\n",
       "    }\n",
       "</style>\n",
       "<table border=\"1\" class=\"dataframe\">\n",
       "  <thead>\n",
       "    <tr style=\"text-align: right;\">\n",
       "      <th></th>\n",
       "      <th>id_seqpos</th>\n",
       "      <th>reactivity</th>\n",
       "      <th>deg_Mg_pH10</th>\n",
       "      <th>deg_pH10</th>\n",
       "      <th>deg_Mg_50C</th>\n",
       "      <th>deg_50C</th>\n",
       "    </tr>\n",
       "  </thead>\n",
       "  <tbody>\n",
       "    <tr>\n",
       "      <th>0</th>\n",
       "      <td>id_00073f8be_0</td>\n",
       "      <td>0.825539</td>\n",
       "      <td>1.044610</td>\n",
       "      <td>1.747477</td>\n",
       "      <td>0.980793</td>\n",
       "      <td>0.971702</td>\n",
       "    </tr>\n",
       "    <tr>\n",
       "      <th>1</th>\n",
       "      <td>id_00073f8be_1</td>\n",
       "      <td>0.825539</td>\n",
       "      <td>1.044610</td>\n",
       "      <td>1.747477</td>\n",
       "      <td>0.980793</td>\n",
       "      <td>0.971702</td>\n",
       "    </tr>\n",
       "    <tr>\n",
       "      <th>2</th>\n",
       "      <td>id_00073f8be_2</td>\n",
       "      <td>0.567550</td>\n",
       "      <td>0.468216</td>\n",
       "      <td>0.543326</td>\n",
       "      <td>0.588278</td>\n",
       "      <td>0.593565</td>\n",
       "    </tr>\n",
       "    <tr>\n",
       "      <th>3</th>\n",
       "      <td>id_00073f8be_3</td>\n",
       "      <td>0.567550</td>\n",
       "      <td>0.468216</td>\n",
       "      <td>0.543326</td>\n",
       "      <td>0.588278</td>\n",
       "      <td>0.593565</td>\n",
       "    </tr>\n",
       "    <tr>\n",
       "      <th>4</th>\n",
       "      <td>id_00073f8be_4</td>\n",
       "      <td>0.567550</td>\n",
       "      <td>0.468216</td>\n",
       "      <td>0.543326</td>\n",
       "      <td>0.588278</td>\n",
       "      <td>0.593565</td>\n",
       "    </tr>\n",
       "  </tbody>\n",
       "</table>\n",
       "</div>"
      ],
      "text/plain": [
       "        id_seqpos  reactivity  deg_Mg_pH10  deg_pH10  deg_Mg_50C   deg_50C\n",
       "0  id_00073f8be_0    0.825539     1.044610  1.747477    0.980793  0.971702\n",
       "1  id_00073f8be_1    0.825539     1.044610  1.747477    0.980793  0.971702\n",
       "2  id_00073f8be_2    0.567550     0.468216  0.543326    0.588278  0.593565\n",
       "3  id_00073f8be_3    0.567550     0.468216  0.543326    0.588278  0.593565\n",
       "4  id_00073f8be_4    0.567550     0.468216  0.543326    0.588278  0.593565"
      ]
     },
     "execution_count": 31,
     "metadata": {},
     "output_type": "execute_result"
    }
   ],
   "source": [
    "sub1 = pd.merge(sub[['id_seqpos']], test_data, left_on='id_seqpos', right_on='id', how='left').drop(['id', 'sequence', 'structure', 'predicted_loop_type'], axis=1)\n",
    "sub1.head()"
   ]
  },
  {
   "cell_type": "code",
   "execution_count": 32,
   "metadata": {
    "_kg_hide-input": true,
    "execution": {
     "iopub.execute_input": "2021-02-17T15:20:06.717448Z",
     "iopub.status.busy": "2021-02-17T15:20:06.716767Z",
     "iopub.status.idle": "2021-02-17T15:20:06.760522Z",
     "shell.execute_reply": "2021-02-17T15:20:06.761345Z"
    },
    "papermill": {
     "duration": 0.091993,
     "end_time": "2021-02-17T15:20:06.761590",
     "exception": false,
     "start_time": "2021-02-17T15:20:06.669597",
     "status": "completed"
    },
    "tags": []
   },
   "outputs": [],
   "source": [
    "sub1[['reactivity', 'deg_Mg_pH10', 'deg_pH10', 'deg_Mg_50C', 'deg_50C']] = sub1[['reactivity', 'deg_Mg_pH10', 'deg_pH10', 'deg_Mg_50C', 'deg_50C']].fillna(0) * 0.9"
   ]
  },
  {
   "cell_type": "code",
   "execution_count": 33,
   "metadata": {
    "_kg_hide-input": true,
    "execution": {
     "iopub.execute_input": "2021-02-17T15:20:06.916840Z",
     "iopub.status.busy": "2021-02-17T15:20:06.915971Z",
     "iopub.status.idle": "2021-02-17T15:20:12.092133Z",
     "shell.execute_reply": "2021-02-17T15:20:12.092827Z"
    },
    "papermill": {
     "duration": 5.258424,
     "end_time": "2021-02-17T15:20:12.093070",
     "exception": false,
     "start_time": "2021-02-17T15:20:06.834646",
     "status": "completed"
    },
    "tags": []
   },
   "outputs": [],
   "source": [
    "sub1.to_csv('submission.csv', index=False)"
   ]
  }
 ],
 "metadata": {
  "kernelspec": {
   "display_name": "Python 3",
   "language": "python",
   "name": "python3"
  },
  "language_info": {
   "codemirror_mode": {
    "name": "ipython",
    "version": 3
   },
   "file_extension": ".py",
   "mimetype": "text/x-python",
   "name": "python",
   "nbconvert_exporter": "python",
   "pygments_lexer": "ipython3",
   "version": "3.7.9"
  },
  "papermill": {
   "default_parameters": {},
   "duration": 62.891262,
   "end_time": "2021-02-17T15:20:13.471226",
   "environment_variables": {},
   "exception": null,
   "input_path": "__notebook__.ipynb",
   "output_path": "__notebook__.ipynb",
   "parameters": {},
   "start_time": "2021-02-17T15:19:10.579964",
   "version": "2.2.2"
  }
 },
 "nbformat": 4,
 "nbformat_minor": 4
}
